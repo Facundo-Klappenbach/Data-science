{
 "cells": [
  {
   "cell_type": "markdown",
   "metadata": {},
   "source": [
    "This feature selection notebook does a filter followed by a wrapper for a binary dependent variable (binary classification). It's capable of doing the filter on more than one file. The variable files are called vars1.csv, vars2.csv ... Or you can make the input file name(s) anything you want.\n",
    "\n",
    "The filter runs separately on each vars file and keeps the top num_filter variables from each file. If there are more than one vars files we'll again select the top num_filter variables across all the vars.csv files.\n",
    "\n",
    "If balance = 0 the entire files are used. If balance != 0 then balance is the RATIO OF BADS TO GOODS retained for the rest of the feature selection. We keep all the rare class (bads) and downsample the goods. I think in general it's better to keep balance = 0.\n",
    "\n",
    "The filter is pretty fast. The wrapper is what takes the most time. The two most important paramenters are the number of variables you want to save from the filter (num_filter) and the number you want from the wrapper (num_wrapper). \n",
    "\n",
    "There's a parameter njobs that controls the # threads used in the wrapper. Set it to 1 for a single thread and it should work fine, but you might be able to succeed with njobs = -1, which lets the machine set the maximum # threads based on the CPU. With this setting the kernel may die because of memory. The njobs = -1 doesn't take into consideration the memory requirements.\n",
    "\n",
    "Recommendations: Try a few simple runs just to make sure all's working. Start with num_filter = 20, num_wrapper = 5, increase from there. I like num_filter as high as around 10 to 20% of the # candidate variables, but not much higher than a few hundred. You don't need num_wrapper large if you're doing forward selection. Most problems will saturate before 20. You can try a few different simple wrapper models like RF (5 trees, 10 layers), catboost (10 trees, 3 layers), LGBM (same). They're pretty fast. You can try forward and backward. I'd start with forward. In the end, select one of these as your favorite run and go with those variables. Don't mix variables across different runs.\n",
    "\n",
    "I find forward selection runs much faster than backward.\n",
    "\n",
    "Make sure your validation/out-of-time population and any other record exclusion is set correctly and as you want for your problem in cell 3."
   ]
  },
  {
   "cell_type": "code",
   "execution_count": 1,
   "metadata": {
    "scrolled": false
   },
   "outputs": [],
   "source": [
    "import pandas as pd\n",
    "import numpy as np\n",
    "import scipy.stats as sps\n",
    "import matplotlib.pyplot as plt\n",
    "import datetime as dt\n",
    "import gc\n",
    "from sklearn.ensemble import RandomForestClassifier\n",
    "from mlxtend.feature_selection import SequentialFeatureSelector as SFS\n",
    "from lightgbm import LGBMClassifier\n",
    "from catboost import CatBoostClassifier\n",
    "%matplotlib inline\n",
    "start_time = dt.datetime.now()"
   ]
  },
  {
   "cell_type": "code",
   "execution_count": 2,
   "metadata": {},
   "outputs": [],
   "source": [
    "# set some parameters\n",
    "num_files = 1\n",
    "# I recommend set num_filter to be about 10 to 20% of the original # variables\n",
    "num_filter = 200\n",
    "# I recommend set num_wrapper to be about 50, then look for a saturation of the model performance as variables are added\n",
    "# Then you can run it again with num_wrapper just a bit above this saturation point, not more than about twice this saturation number\n",
    "num_wrapper = 20\n",
    "balance = 0\n",
    "detect_rate = .03\n",
    "index_name = 'Recnum'\n",
    "y_name = 'Fraud'\n",
    "good_label = 0\n",
    "bad_label = 1"
   ]
  },
  {
   "cell_type": "markdown",
   "metadata": {},
   "source": [
    "## Run a filter on all the files"
   ]
  },
  {
   "cell_type": "code",
   "execution_count": 3,
   "metadata": {},
   "outputs": [
    {
     "name": "stdout",
     "output_type": "stream",
     "text": [
      "********** working on candidate_variables.csv size is (97496, 2635)\n"
     ]
    },
    {
     "name": "stderr",
     "output_type": "stream",
     "text": [
      "<timed exec>:10: PerformanceWarning: DataFrame is highly fragmented.  This is usually the result of calling `frame.insert` many times, which has poor performance.  Consider joining all columns at once using pd.concat(axis=1) instead. To get a de-fragmented frame, use `newframe = frame.copy()`\n",
      "<timed exec>:33: FutureWarning: Setting an item of incompatible dtype is deprecated and will raise in a future error of pandas. Value 'Amount' has dtype incompatible with float64, please explicitly cast to a compatible dtype first.\n"
     ]
    },
    {
     "name": "stdout",
     "output_type": "stream",
     "text": [
      "100\n",
      "200\n",
      "300\n",
      "400\n",
      "500\n",
      "600\n",
      "700\n",
      "800\n",
      "900\n",
      "1000\n",
      "1100\n",
      "1200\n",
      "1300\n",
      "1400\n",
      "1500\n",
      "1600\n",
      "1700\n",
      "1800\n",
      "1900\n",
      "2000\n",
      "2100\n",
      "2200\n",
      "2300\n",
      "2400\n",
      "2500\n",
      "2600\n",
      "candidate_variables.csv                     variable  filter score\n",
      "1                      Fraud      1.000000\n",
      "28           Cardnum_total_3      0.621932\n",
      "19           Cardnum_total_1      0.619658\n",
      "10           Cardnum_total_0      0.591318\n",
      "15           Cardnum_count_1      0.567429\n",
      "37           Cardnum_total_7      0.564245\n",
      "24           Cardnum_count_3      0.563356\n",
      "586         Card_dow_total_7      0.542303\n",
      "17             Cardnum_max_1      0.532080\n",
      "33           Cardnum_count_7      0.526897\n",
      "8              Cardnum_max_0      0.525418\n",
      "6            Cardnum_count_0      0.516123\n",
      "595        Card_dow_total_14      0.511203\n",
      "1577   Cardnum_vdratio_1by30      0.504966\n",
      "1578   Cardnum_vdratio_1by60      0.502927\n",
      "26             Cardnum_max_3      0.501170\n",
      "46          Cardnum_total_14      0.494375\n",
      "1645  Card_dow_vdratio_0by30      0.489227\n",
      "1646  Card_dow_vdratio_0by60      0.486480\n",
      "584           Card_dow_max_7      0.486177\n",
      "CPU times: total: 1min 2s\n",
      "Wall time: 1min 28s\n"
     ]
    }
   ],
   "source": [
    "%%time\n",
    "filter_score_df_list = []\n",
    "for i in range(num_files):\n",
    "#     file_name = \"vars\"+str(i+1)+'.csv'\n",
    "    file_name = 'candidate_variables.csv'\n",
    "    df = pd.read_csv(file_name)\n",
    "    print(\"********** working on\",file_name,\"size is\",df.shape)\n",
    "    df = df.set_index(index_name) \n",
    "    df = df[df.index <= 85264] # remove the last two months as the out-of-time data (OOT)\n",
    "    df = df[df.index >= 3466] # remove the first 2 weeks of records since their variables aren't well formed\n",
    "    df['RANDOM'] = np.random.ranf(len(df)) # add a random number variable to make sure it doesn't come up as important\n",
    "    goods = df[df[y_name] == good_label]\n",
    "    bads = df[df[y_name] == bad_label]\n",
    "    del df # don't need this file anymore\n",
    "    num_goods = len(goods)\n",
    "    num_bads = len(bads)\n",
    "    num_vars = len(bads.columns)-2\n",
    "    if(balance != 0):\n",
    "        if(i == 0):\n",
    "            num_goods_desired = int(min(num_goods,num_bads*balance))\n",
    "            goods = goods.sample(n=num_goods_desired,random_state=1)\n",
    "            goods_keep = list(goods.index)\n",
    "            goods_keep.sort()\n",
    "    \n",
    "        if(i > 0):\n",
    "            goods = goods.loc[goods_keep] \n",
    "            \n",
    "    df_sampled = pd.concat([goods,bads])\n",
    "    df_sampled.sort_index(inplace=True)\n",
    "    filter_score = pd.DataFrame(np.zeros((num_vars+1,2)))\n",
    "    filter_score.columns = ['variable','filter score']   \n",
    "    j = 0\n",
    "    for column in df_sampled:\n",
    "        filter_score.loc[j,'variable'] = column\n",
    "        filter_score.loc[j,'filter score'] = sps.ks_2samp(goods[column],bads[column])[0]\n",
    "        j = j+1\n",
    "        if j%100 == 0:\n",
    "            print(j)\n",
    "\n",
    "    filter_score.sort_values(by=['filter score'], ascending=False, inplace=True)\n",
    "    vars_keep = list(filter_score['variable'][1:num_filter+1]) \n",
    "    print(file_name,filter_score.head(20))\n",
    "    if(i == 0): # if first time through need to initialize some stuff\n",
    "        Y = pd.DataFrame(df_sampled[y_name], index=df_sampled.index)\n",
    "        df_top = df_sampled.filter(vars_keep, axis=1)\n",
    "            \n",
    "    if(i > 0): # if more than one variable file we use this loop\n",
    "        data_new_top = df_sampled.filter(vars_keep, axis=1)\n",
    "        df_top = pd.concat([df_top,data_new_top], axis=1)\n",
    "\n",
    "    filter_score_df_list.append(filter_score)\n",
    "    \n",
    "    del goods # delete these before starting the next file, if any\n",
    "    del bads\n",
    "    gc.collect()\n",
    "filter_score = pd.concat(filter_score_df_list)"
   ]
  },
  {
   "cell_type": "code",
   "execution_count": 4,
   "metadata": {},
   "outputs": [],
   "source": [
    "filter_score.sort_values(by=['filter score'], ascending=False, inplace=True)\n",
    "filter_score.reset_index(drop=True,inplace=True)"
   ]
  },
  {
   "cell_type": "code",
   "execution_count": 5,
   "metadata": {},
   "outputs": [
    {
     "data": {
      "text/html": [
       "<div>\n",
       "<style scoped>\n",
       "    .dataframe tbody tr th:only-of-type {\n",
       "        vertical-align: middle;\n",
       "    }\n",
       "\n",
       "    .dataframe tbody tr th {\n",
       "        vertical-align: top;\n",
       "    }\n",
       "\n",
       "    .dataframe thead th {\n",
       "        text-align: right;\n",
       "    }\n",
       "</style>\n",
       "<table border=\"1\" class=\"dataframe\">\n",
       "  <thead>\n",
       "    <tr style=\"text-align: right;\">\n",
       "      <th></th>\n",
       "      <th>variable</th>\n",
       "      <th>filter score</th>\n",
       "    </tr>\n",
       "  </thead>\n",
       "  <tbody>\n",
       "    <tr>\n",
       "      <th>0</th>\n",
       "      <td>Fraud</td>\n",
       "      <td>1.000000</td>\n",
       "    </tr>\n",
       "    <tr>\n",
       "      <th>1</th>\n",
       "      <td>Cardnum_total_3</td>\n",
       "      <td>0.621932</td>\n",
       "    </tr>\n",
       "    <tr>\n",
       "      <th>2</th>\n",
       "      <td>Cardnum_total_1</td>\n",
       "      <td>0.619658</td>\n",
       "    </tr>\n",
       "    <tr>\n",
       "      <th>3</th>\n",
       "      <td>Cardnum_total_0</td>\n",
       "      <td>0.591318</td>\n",
       "    </tr>\n",
       "    <tr>\n",
       "      <th>4</th>\n",
       "      <td>Cardnum_count_1</td>\n",
       "      <td>0.567429</td>\n",
       "    </tr>\n",
       "    <tr>\n",
       "      <th>5</th>\n",
       "      <td>Cardnum_total_7</td>\n",
       "      <td>0.564245</td>\n",
       "    </tr>\n",
       "    <tr>\n",
       "      <th>6</th>\n",
       "      <td>Cardnum_count_3</td>\n",
       "      <td>0.563356</td>\n",
       "    </tr>\n",
       "    <tr>\n",
       "      <th>7</th>\n",
       "      <td>Card_dow_total_7</td>\n",
       "      <td>0.542303</td>\n",
       "    </tr>\n",
       "    <tr>\n",
       "      <th>8</th>\n",
       "      <td>Cardnum_max_1</td>\n",
       "      <td>0.532080</td>\n",
       "    </tr>\n",
       "    <tr>\n",
       "      <th>9</th>\n",
       "      <td>Cardnum_count_7</td>\n",
       "      <td>0.526897</td>\n",
       "    </tr>\n",
       "    <tr>\n",
       "      <th>10</th>\n",
       "      <td>Cardnum_max_0</td>\n",
       "      <td>0.525418</td>\n",
       "    </tr>\n",
       "    <tr>\n",
       "      <th>11</th>\n",
       "      <td>Cardnum_count_0</td>\n",
       "      <td>0.516123</td>\n",
       "    </tr>\n",
       "    <tr>\n",
       "      <th>12</th>\n",
       "      <td>Card_dow_total_14</td>\n",
       "      <td>0.511203</td>\n",
       "    </tr>\n",
       "    <tr>\n",
       "      <th>13</th>\n",
       "      <td>Cardnum_vdratio_1by30</td>\n",
       "      <td>0.504966</td>\n",
       "    </tr>\n",
       "    <tr>\n",
       "      <th>14</th>\n",
       "      <td>Cardnum_vdratio_1by60</td>\n",
       "      <td>0.502927</td>\n",
       "    </tr>\n",
       "    <tr>\n",
       "      <th>15</th>\n",
       "      <td>Cardnum_max_3</td>\n",
       "      <td>0.501170</td>\n",
       "    </tr>\n",
       "    <tr>\n",
       "      <th>16</th>\n",
       "      <td>Cardnum_total_14</td>\n",
       "      <td>0.494375</td>\n",
       "    </tr>\n",
       "    <tr>\n",
       "      <th>17</th>\n",
       "      <td>Card_dow_vdratio_0by30</td>\n",
       "      <td>0.489227</td>\n",
       "    </tr>\n",
       "    <tr>\n",
       "      <th>18</th>\n",
       "      <td>Card_dow_vdratio_0by60</td>\n",
       "      <td>0.486480</td>\n",
       "    </tr>\n",
       "    <tr>\n",
       "      <th>19</th>\n",
       "      <td>Card_dow_max_7</td>\n",
       "      <td>0.486177</td>\n",
       "    </tr>\n",
       "    <tr>\n",
       "      <th>20</th>\n",
       "      <td>Cardnum_vdratio_1by14</td>\n",
       "      <td>0.485431</td>\n",
       "    </tr>\n",
       "    <tr>\n",
       "      <th>21</th>\n",
       "      <td>Cardnum_variability_max_0</td>\n",
       "      <td>0.484245</td>\n",
       "    </tr>\n",
       "    <tr>\n",
       "      <th>22</th>\n",
       "      <td>Card_dow_count_7</td>\n",
       "      <td>0.482384</td>\n",
       "    </tr>\n",
       "    <tr>\n",
       "      <th>23</th>\n",
       "      <td>Cardnum_actual/toal_0</td>\n",
       "      <td>0.479550</td>\n",
       "    </tr>\n",
       "    <tr>\n",
       "      <th>24</th>\n",
       "      <td>Card_dow_vdratio_0by14</td>\n",
       "      <td>0.479086</td>\n",
       "    </tr>\n",
       "    <tr>\n",
       "      <th>25</th>\n",
       "      <td>Cardnum_variability_max_1</td>\n",
       "      <td>0.477836</td>\n",
       "    </tr>\n",
       "    <tr>\n",
       "      <th>26</th>\n",
       "      <td>Cardnum_unique_count_for_card_state_1</td>\n",
       "      <td>0.476067</td>\n",
       "    </tr>\n",
       "    <tr>\n",
       "      <th>27</th>\n",
       "      <td>Cardnum_unique_count_for_card_zip_1</td>\n",
       "      <td>0.474960</td>\n",
       "    </tr>\n",
       "    <tr>\n",
       "      <th>28</th>\n",
       "      <td>Card_dow_total_30</td>\n",
       "      <td>0.474759</td>\n",
       "    </tr>\n",
       "    <tr>\n",
       "      <th>29</th>\n",
       "      <td>Cardnum_unique_count_for_Merchnum_1</td>\n",
       "      <td>0.472017</td>\n",
       "    </tr>\n",
       "  </tbody>\n",
       "</table>\n",
       "</div>"
      ],
      "text/plain": [
       "                                 variable  filter score\n",
       "0                                   Fraud      1.000000\n",
       "1                         Cardnum_total_3      0.621932\n",
       "2                         Cardnum_total_1      0.619658\n",
       "3                         Cardnum_total_0      0.591318\n",
       "4                         Cardnum_count_1      0.567429\n",
       "5                         Cardnum_total_7      0.564245\n",
       "6                         Cardnum_count_3      0.563356\n",
       "7                        Card_dow_total_7      0.542303\n",
       "8                           Cardnum_max_1      0.532080\n",
       "9                         Cardnum_count_7      0.526897\n",
       "10                          Cardnum_max_0      0.525418\n",
       "11                        Cardnum_count_0      0.516123\n",
       "12                      Card_dow_total_14      0.511203\n",
       "13                  Cardnum_vdratio_1by30      0.504966\n",
       "14                  Cardnum_vdratio_1by60      0.502927\n",
       "15                          Cardnum_max_3      0.501170\n",
       "16                       Cardnum_total_14      0.494375\n",
       "17                 Card_dow_vdratio_0by30      0.489227\n",
       "18                 Card_dow_vdratio_0by60      0.486480\n",
       "19                         Card_dow_max_7      0.486177\n",
       "20                  Cardnum_vdratio_1by14      0.485431\n",
       "21              Cardnum_variability_max_0      0.484245\n",
       "22                       Card_dow_count_7      0.482384\n",
       "23                  Cardnum_actual/toal_0      0.479550\n",
       "24                 Card_dow_vdratio_0by14      0.479086\n",
       "25              Cardnum_variability_max_1      0.477836\n",
       "26  Cardnum_unique_count_for_card_state_1      0.476067\n",
       "27    Cardnum_unique_count_for_card_zip_1      0.474960\n",
       "28                      Card_dow_total_30      0.474759\n",
       "29    Cardnum_unique_count_for_Merchnum_1      0.472017"
      ]
     },
     "execution_count": 5,
     "metadata": {},
     "output_type": "execute_result"
    }
   ],
   "source": [
    "filter_score.head(30)"
   ]
  },
  {
   "cell_type": "code",
   "execution_count": 6,
   "metadata": {},
   "outputs": [
    {
     "data": {
      "text/html": [
       "<div>\n",
       "<style scoped>\n",
       "    .dataframe tbody tr th:only-of-type {\n",
       "        vertical-align: middle;\n",
       "    }\n",
       "\n",
       "    .dataframe tbody tr th {\n",
       "        vertical-align: top;\n",
       "    }\n",
       "\n",
       "    .dataframe thead th {\n",
       "        text-align: right;\n",
       "    }\n",
       "</style>\n",
       "<table border=\"1\" class=\"dataframe\">\n",
       "  <thead>\n",
       "    <tr style=\"text-align: right;\">\n",
       "      <th></th>\n",
       "      <th>variable</th>\n",
       "      <th>filter score</th>\n",
       "    </tr>\n",
       "  </thead>\n",
       "  <tbody>\n",
       "    <tr>\n",
       "      <th>2625</th>\n",
       "      <td>card_merch_unique_count_for_card_state_7</td>\n",
       "      <td>0.000088</td>\n",
       "    </tr>\n",
       "    <tr>\n",
       "      <th>2626</th>\n",
       "      <td>Merchnum_desc_Zip_unique_count_for_Merchnum_de...</td>\n",
       "      <td>0.000075</td>\n",
       "    </tr>\n",
       "    <tr>\n",
       "      <th>2627</th>\n",
       "      <td>card_merch_unique_count_for_card_state_3</td>\n",
       "      <td>0.000063</td>\n",
       "    </tr>\n",
       "    <tr>\n",
       "      <th>2628</th>\n",
       "      <td>Merchdesc_Zip_unique_count_for_Merchdesc_State_14</td>\n",
       "      <td>0.000038</td>\n",
       "    </tr>\n",
       "    <tr>\n",
       "      <th>2629</th>\n",
       "      <td>Card_Merchdesc_Zip_unique_count_for_Merchdesc_...</td>\n",
       "      <td>0.000038</td>\n",
       "    </tr>\n",
       "    <tr>\n",
       "      <th>2630</th>\n",
       "      <td>Merchdesc_Zip_unique_count_for_Merchdesc_State_7</td>\n",
       "      <td>0.000038</td>\n",
       "    </tr>\n",
       "    <tr>\n",
       "      <th>2631</th>\n",
       "      <td>merch_zip_unique_count_for_merch_state_14</td>\n",
       "      <td>0.000025</td>\n",
       "    </tr>\n",
       "    <tr>\n",
       "      <th>2632</th>\n",
       "      <td>merch_zip_unique_count_for_merch_state_7</td>\n",
       "      <td>0.000013</td>\n",
       "    </tr>\n",
       "    <tr>\n",
       "      <th>2633</th>\n",
       "      <td>Merchnum_desc_Zip_unique_count_for_Merchnum_de...</td>\n",
       "      <td>0.000013</td>\n",
       "    </tr>\n",
       "    <tr>\n",
       "      <th>2634</th>\n",
       "      <td>card_merch_unique_count_for_Cardnum_1</td>\n",
       "      <td>0.000000</td>\n",
       "    </tr>\n",
       "  </tbody>\n",
       "</table>\n",
       "</div>"
      ],
      "text/plain": [
       "                                               variable  filter score\n",
       "2625           card_merch_unique_count_for_card_state_7      0.000088\n",
       "2626  Merchnum_desc_Zip_unique_count_for_Merchnum_de...      0.000075\n",
       "2627           card_merch_unique_count_for_card_state_3      0.000063\n",
       "2628  Merchdesc_Zip_unique_count_for_Merchdesc_State_14      0.000038\n",
       "2629  Card_Merchdesc_Zip_unique_count_for_Merchdesc_...      0.000038\n",
       "2630   Merchdesc_Zip_unique_count_for_Merchdesc_State_7      0.000038\n",
       "2631          merch_zip_unique_count_for_merch_state_14      0.000025\n",
       "2632           merch_zip_unique_count_for_merch_state_7      0.000013\n",
       "2633  Merchnum_desc_Zip_unique_count_for_Merchnum_de...      0.000013\n",
       "2634              card_merch_unique_count_for_Cardnum_1      0.000000"
      ]
     },
     "execution_count": 6,
     "metadata": {},
     "output_type": "execute_result"
    }
   ],
   "source": [
    "filter_score.tail(10)"
   ]
  },
  {
   "cell_type": "code",
   "execution_count": 7,
   "metadata": {},
   "outputs": [
    {
     "data": {
      "text/plain": [
       "(2635, 2)"
      ]
     },
     "execution_count": 7,
     "metadata": {},
     "output_type": "execute_result"
    }
   ],
   "source": [
    "filter_score.shape"
   ]
  },
  {
   "cell_type": "code",
   "execution_count": 8,
   "metadata": {
    "scrolled": true
   },
   "outputs": [
    {
     "name": "stdout",
     "output_type": "stream",
     "text": [
      "0  vars_keep: ['Cardnum_total_3', 'Cardnum_total_1', 'Cardnum_total_0', 'Cardnum_count_1', 'Cardnum_total_7', 'Cardnum_count_3', 'Card_dow_total_7', 'Cardnum_max_1', 'Cardnum_count_7', 'Cardnum_max_0', 'Cardnum_count_0', 'Card_dow_total_14', 'Cardnum_vdratio_1by30', 'Cardnum_vdratio_1by60', 'Cardnum_max_3', 'Cardnum_total_14', 'Card_dow_vdratio_0by30', 'Card_dow_vdratio_0by60', 'Card_dow_max_7', 'Cardnum_vdratio_1by14', 'Cardnum_variability_max_0', 'Card_dow_count_7', 'Cardnum_actual/toal_0', 'Card_dow_vdratio_0by14', 'Cardnum_variability_max_1', 'Cardnum_unique_count_for_card_state_1', 'Cardnum_unique_count_for_card_zip_1', 'Card_dow_total_30', 'Cardnum_unique_count_for_Merchnum_1', 'Card_dow_max_14', 'Card_dow_vdratio_0by7', 'Cardnum_vdratio_1by7', 'Cardnum_unique_count_for_card_state_3', 'Cardnum_unique_count_for_card_zip_3', 'Cardnum_total_amount_1_by_60', 'Cardnum_unique_count_for_Merchnum_3', 'Cardnum_actual/toal_1', 'Card_dow_unique_count_for_merch_state_1', 'Card_dow_unique_count_for_Card_Merchdesc_1', 'Card_dow_unique_count_for_state_des_1', 'Card_dow_unique_count_for_merch_zip_1', 'Cardnum_unique_count_for_card_state_7', 'Cardnum_actual/max_0', 'Cardnum_count_14', 'Card_dow_count_14', 'Cardnum_unique_count_for_card_zip_7', 'Cardnum_unique_count_for_Merchnum_7', 'Card_dow_total_60', 'Cardnum_total_amount_1_by_30', 'Card_dow_day_since', 'Cardnum_day_since', 'Cardnum_count_1_by_30', 'Cardnum_count_1_by_30_sq', 'Cardnum_vdratio_0by60', 'Card_dow_max_30', 'Cardnum_unique_count_for_card_state_14', 'Cardnum_count_1_by_60_sq', 'Cardnum_count_1_by_60', 'Card_dow_unique_count_for_merch_zip_7', 'Cardnum_actual/max_1', 'Card_dow_unique_count_for_merch_state_7', 'Cardnum_unique_count_for_card_zip_14', 'Cardnum_unique_count_for_Merchnum_14', 'Cardnum_count_1_by_14_sq', 'Cardnum_count_1_by_14', 'Cardnum_vdratio_0by30', 'Cardnum_total_30', 'Cardnum_max_7', 'Cardnum_actual/toal_3', 'Cardnum_variability_max_3', 'Card_dow_variability_max_7', 'Card_dow_unique_count_for_merch_state_14', 'Card_dow_unique_count_for_merch_zip_14', 'Card_dow_unique_count_for_Card_Merchdesc_7', 'Card_dow_unique_count_for_state_des_7', 'Card_dow_count_30', 'Card_dow_actual/toal_7', 'Cardnum_unique_count_for_card_state_30', 'Card_dow_max_60', 'Cardnum_vdratio_0by14', 'Cardnum_total_amount_0_by_60', 'Card_dow_unique_count_for_state_des_14', 'Card_dow_unique_count_for_Card_Merchdesc_14', 'Cardnum_unique_count_for_card_zip_30', 'card_state_total_3', 'card_state_total_1', 'Card_dow_unique_count_for_merch_zip_30', 'Card_dow_unique_count_for_merch_state_30', 'Cardnum_avg_0', 'Cardnum_unique_count_for_Merchnum_30', 'Cardnum_total_amount_1_by_14', 'Card_dow_count_0_by_60_sq', 'Card_dow_count_0_by_60', 'Card_dow_variability_max_14', 'Cardnum_avg_1', 'Card_dow_actual/max_7', 'Cardnum_vdratio_0by7', 'Cardnum_count_30', 'Cardnum_max_60', 'Cardnum_unique_count_for_card_state_60', 'card_state_max_3', 'Cardnum_total_60', 'card_state_total_7', 'Card_dow_total_amount_0_by_60', 'card_state_total_0', 'card_state_max_1', 'Card_dow_unique_count_for_state_des_30', 'Card_dow_unique_count_for_Card_Merchdesc_30', 'Cardnum_avg_3', 'Cardnum_actual/max_3', 'Cardnum_total_amount_0_by_30', 'Card_Merchdesc_State_total_14', 'Card_Merchdesc_total_14', 'card_zip_total_14', 'Cardnum_unique_count_for_card_zip_60', 'card_state_total_14', 'Card_Merchdesc_Zip_total_14', 'Card_dow_actual/toal_14', 'card_state_vdratio_1by60', 'Card_Merchnum_desc_total_14', 'card_state_max_7', 'card_merch_total_14', 'Card_Merchnum_State_total_14', 'Card_Merchnum_Zip_total_14', 'Card_dow_count_0_by_30_sq', 'Card_dow_count_0_by_30', 'Card_dow_avg_7', 'card_zip_total_7', 'Cardnum_variability_avg_0', 'Card_Merchdesc_State_total_7', 'Card_Merchdesc_total_7', 'card_zip_total_3', 'Card_Merchdesc_Zip_total_7', 'Card_dow_avg_14', 'card_zip_total_1', 'Card_dow_count_60', 'Card_Merchnum_desc_total_7', 'card_merch_total_3', 'Card_Merchnum_State_total_3', 'Card_dow_unique_count_for_merch_state_60', 'card_merch_total_7', 'Card_Merchnum_State_total_7', 'card_state_total_amount_1_by_60', 'Card_dow_unique_count_for_merch_zip_60', 'Card_Merchnum_Zip_total_7', 'Card_Merchdesc_State_total_3', 'Card_Merchdesc_total_3', 'card_zip_total_amount_1_by_60', 'Card_Merchnum_Zip_total_3', 'Card_Merchdesc_Zip_total_3', 'card_zip_total_30', 'Cardnum_max_14', 'card_state_max_0', 'Cardnum_count_0_by_60_sq', 'Cardnum_count_0_by_60', 'Card_Merchdesc_State_total_30', 'Card_Merchdesc_total_30', 'Card_Merchnum_desc_total_30', 'card_merch_total_1', 'Card_Merchnum_State_total_30', 'card_merch_total_30', 'Card_Merchdesc_Zip_total_30', 'state_des_total_3', 'Card_Merchnum_Zip_total_1', 'card_zip_count_1_by_60', 'card_zip_count_1_by_60_sq', 'Card_Merchnum_Zip_total_30', 'card_state_vdratio_1by30', 'card_zip_max_3', 'Card_Merchnum_desc_total_3', 'Merchdesc_Zip_total_3', 'state_des_total_1', 'Cardnum_count_1_by_7', 'Cardnum_count_1_by_7_sq', 'merch_state_total_3', 'Merchnum_total_3', 'card_zip_max_7', 'Merchdesc_Zip_total_1', 'merch_zip_total_3', 'card_state_count_1_by_60_sq', 'card_state_count_1_by_60', 'card_merch_max_3', 'Card_Merchnum_Zip_max_3', 'Card_Merchnum_State_max_3', 'card_zip_max_1', 'Merchnum_desc_State_total_3', 'Merchnum_desc_total_3', 'card_state_total_30', 'Cardnum_variability_max_7', 'Card_dow_avg_30', 'Card_dow_variability_max_30', 'Cardnum_unique_count_for_Merchnum_60', 'Card_Merchnum_desc_total_60', 'card_merch_max_7', 'Card_Merchnum_State_max_7', 'Card_Merchnum_Zip_max_7', 'card_state_max_14', 'Merchnum_desc_Zip_total_3', 'Card_Merchnum_State_total_60', 'card_merch_total_60', 'Merchnum_desc_State_total_1', 'Merchnum_desc_total_1']\n"
     ]
    }
   ],
   "source": [
    "## filter_score.head(20).to_csv('filter_top.csv')\n",
    "vars_keep = list(filter_score['variable'][num_files:num_filter+3])\n",
    "print(i,' vars_keep:',vars_keep)"
   ]
  },
  {
   "cell_type": "code",
   "execution_count": 9,
   "metadata": {
    "scrolled": false
   },
   "outputs": [
    {
     "data": {
      "text/html": [
       "<div>\n",
       "<style scoped>\n",
       "    .dataframe tbody tr th:only-of-type {\n",
       "        vertical-align: middle;\n",
       "    }\n",
       "\n",
       "    .dataframe tbody tr th {\n",
       "        vertical-align: top;\n",
       "    }\n",
       "\n",
       "    .dataframe thead th {\n",
       "        text-align: right;\n",
       "    }\n",
       "</style>\n",
       "<table border=\"1\" class=\"dataframe\">\n",
       "  <thead>\n",
       "    <tr style=\"text-align: right;\">\n",
       "      <th></th>\n",
       "      <th>Cardnum_total_3</th>\n",
       "      <th>Cardnum_total_1</th>\n",
       "      <th>Cardnum_total_0</th>\n",
       "      <th>Cardnum_count_1</th>\n",
       "      <th>Cardnum_total_7</th>\n",
       "      <th>Cardnum_count_3</th>\n",
       "      <th>Card_dow_total_7</th>\n",
       "      <th>Cardnum_max_1</th>\n",
       "      <th>Cardnum_count_7</th>\n",
       "      <th>Cardnum_max_0</th>\n",
       "      <th>...</th>\n",
       "      <th>Card_dow_variability_max_30</th>\n",
       "      <th>Cardnum_unique_count_for_Merchnum_60</th>\n",
       "      <th>Card_Merchnum_desc_total_60</th>\n",
       "      <th>card_merch_max_7</th>\n",
       "      <th>Card_Merchnum_State_max_7</th>\n",
       "      <th>Card_Merchnum_Zip_max_7</th>\n",
       "      <th>card_state_max_14</th>\n",
       "      <th>Merchnum_desc_Zip_total_3</th>\n",
       "      <th>Card_Merchnum_State_total_60</th>\n",
       "      <th>card_merch_total_60</th>\n",
       "    </tr>\n",
       "    <tr>\n",
       "      <th>Recnum</th>\n",
       "      <th></th>\n",
       "      <th></th>\n",
       "      <th></th>\n",
       "      <th></th>\n",
       "      <th></th>\n",
       "      <th></th>\n",
       "      <th></th>\n",
       "      <th></th>\n",
       "      <th></th>\n",
       "      <th></th>\n",
       "      <th></th>\n",
       "      <th></th>\n",
       "      <th></th>\n",
       "      <th></th>\n",
       "      <th></th>\n",
       "      <th></th>\n",
       "      <th></th>\n",
       "      <th></th>\n",
       "      <th></th>\n",
       "      <th></th>\n",
       "      <th></th>\n",
       "    </tr>\n",
       "  </thead>\n",
       "  <tbody>\n",
       "    <tr>\n",
       "      <th>3466</th>\n",
       "      <td>1964.73</td>\n",
       "      <td>1551.02</td>\n",
       "      <td>333.47</td>\n",
       "      <td>3</td>\n",
       "      <td>3591.53</td>\n",
       "      <td>7</td>\n",
       "      <td>333.47</td>\n",
       "      <td>930.41</td>\n",
       "      <td>9</td>\n",
       "      <td>333.47</td>\n",
       "      <td>...</td>\n",
       "      <td>0.00</td>\n",
       "      <td>13</td>\n",
       "      <td>1960.27</td>\n",
       "      <td>983.66</td>\n",
       "      <td>983.66</td>\n",
       "      <td>983.66</td>\n",
       "      <td>983.66</td>\n",
       "      <td>854.06</td>\n",
       "      <td>1960.27</td>\n",
       "      <td>1960.27</td>\n",
       "    </tr>\n",
       "    <tr>\n",
       "      <th>3467</th>\n",
       "      <td>834.91</td>\n",
       "      <td>660.87</td>\n",
       "      <td>4.37</td>\n",
       "      <td>2</td>\n",
       "      <td>997.73</td>\n",
       "      <td>34</td>\n",
       "      <td>109.97</td>\n",
       "      <td>656.50</td>\n",
       "      <td>72</td>\n",
       "      <td>4.37</td>\n",
       "      <td>...</td>\n",
       "      <td>11.03</td>\n",
       "      <td>3</td>\n",
       "      <td>4.37</td>\n",
       "      <td>15.40</td>\n",
       "      <td>15.40</td>\n",
       "      <td>15.40</td>\n",
       "      <td>15.40</td>\n",
       "      <td>4.37</td>\n",
       "      <td>499.22</td>\n",
       "      <td>499.22</td>\n",
       "    </tr>\n",
       "    <tr>\n",
       "      <th>3468</th>\n",
       "      <td>8459.94</td>\n",
       "      <td>2904.08</td>\n",
       "      <td>271.93</td>\n",
       "      <td>7</td>\n",
       "      <td>9674.14</td>\n",
       "      <td>14</td>\n",
       "      <td>271.93</td>\n",
       "      <td>1380.45</td>\n",
       "      <td>17</td>\n",
       "      <td>271.93</td>\n",
       "      <td>...</td>\n",
       "      <td>0.00</td>\n",
       "      <td>21</td>\n",
       "      <td>2306.98</td>\n",
       "      <td>278.73</td>\n",
       "      <td>278.73</td>\n",
       "      <td>278.73</td>\n",
       "      <td>554.38</td>\n",
       "      <td>582.94</td>\n",
       "      <td>2306.98</td>\n",
       "      <td>2306.98</td>\n",
       "    </tr>\n",
       "    <tr>\n",
       "      <th>3469</th>\n",
       "      <td>838.53</td>\n",
       "      <td>664.49</td>\n",
       "      <td>7.99</td>\n",
       "      <td>3</td>\n",
       "      <td>1001.35</td>\n",
       "      <td>35</td>\n",
       "      <td>113.59</td>\n",
       "      <td>656.50</td>\n",
       "      <td>73</td>\n",
       "      <td>4.37</td>\n",
       "      <td>...</td>\n",
       "      <td>11.78</td>\n",
       "      <td>3</td>\n",
       "      <td>7.99</td>\n",
       "      <td>15.40</td>\n",
       "      <td>15.40</td>\n",
       "      <td>15.40</td>\n",
       "      <td>15.40</td>\n",
       "      <td>7.99</td>\n",
       "      <td>502.84</td>\n",
       "      <td>502.84</td>\n",
       "    </tr>\n",
       "    <tr>\n",
       "      <th>3470</th>\n",
       "      <td>16.28</td>\n",
       "      <td>16.28</td>\n",
       "      <td>16.28</td>\n",
       "      <td>1</td>\n",
       "      <td>16.28</td>\n",
       "      <td>1</td>\n",
       "      <td>16.28</td>\n",
       "      <td>16.28</td>\n",
       "      <td>1</td>\n",
       "      <td>16.28</td>\n",
       "      <td>...</td>\n",
       "      <td>0.00</td>\n",
       "      <td>1</td>\n",
       "      <td>16.28</td>\n",
       "      <td>16.28</td>\n",
       "      <td>16.28</td>\n",
       "      <td>16.28</td>\n",
       "      <td>16.28</td>\n",
       "      <td>130.15</td>\n",
       "      <td>16.28</td>\n",
       "      <td>16.28</td>\n",
       "    </tr>\n",
       "  </tbody>\n",
       "</table>\n",
       "<p>5 rows × 200 columns</p>\n",
       "</div>"
      ],
      "text/plain": [
       "        Cardnum_total_3  Cardnum_total_1  Cardnum_total_0  Cardnum_count_1  \\\n",
       "Recnum                                                                       \n",
       "3466            1964.73          1551.02           333.47                3   \n",
       "3467             834.91           660.87             4.37                2   \n",
       "3468            8459.94          2904.08           271.93                7   \n",
       "3469             838.53           664.49             7.99                3   \n",
       "3470              16.28            16.28            16.28                1   \n",
       "\n",
       "        Cardnum_total_7  Cardnum_count_3  Card_dow_total_7  Cardnum_max_1  \\\n",
       "Recnum                                                                      \n",
       "3466            3591.53                7            333.47         930.41   \n",
       "3467             997.73               34            109.97         656.50   \n",
       "3468            9674.14               14            271.93        1380.45   \n",
       "3469            1001.35               35            113.59         656.50   \n",
       "3470              16.28                1             16.28          16.28   \n",
       "\n",
       "        Cardnum_count_7  Cardnum_max_0  ...  Card_dow_variability_max_30  \\\n",
       "Recnum                                  ...                                \n",
       "3466                  9         333.47  ...                         0.00   \n",
       "3467                 72           4.37  ...                        11.03   \n",
       "3468                 17         271.93  ...                         0.00   \n",
       "3469                 73           4.37  ...                        11.78   \n",
       "3470                  1          16.28  ...                         0.00   \n",
       "\n",
       "        Cardnum_unique_count_for_Merchnum_60  Card_Merchnum_desc_total_60  \\\n",
       "Recnum                                                                      \n",
       "3466                                      13                      1960.27   \n",
       "3467                                       3                         4.37   \n",
       "3468                                      21                      2306.98   \n",
       "3469                                       3                         7.99   \n",
       "3470                                       1                        16.28   \n",
       "\n",
       "        card_merch_max_7  Card_Merchnum_State_max_7  Card_Merchnum_Zip_max_7  \\\n",
       "Recnum                                                                         \n",
       "3466              983.66                     983.66                   983.66   \n",
       "3467               15.40                      15.40                    15.40   \n",
       "3468              278.73                     278.73                   278.73   \n",
       "3469               15.40                      15.40                    15.40   \n",
       "3470               16.28                      16.28                    16.28   \n",
       "\n",
       "        card_state_max_14  Merchnum_desc_Zip_total_3  \\\n",
       "Recnum                                                 \n",
       "3466               983.66                     854.06   \n",
       "3467                15.40                       4.37   \n",
       "3468               554.38                     582.94   \n",
       "3469                15.40                       7.99   \n",
       "3470                16.28                     130.15   \n",
       "\n",
       "        Card_Merchnum_State_total_60  card_merch_total_60  \n",
       "Recnum                                                     \n",
       "3466                         1960.27              1960.27  \n",
       "3467                          499.22               499.22  \n",
       "3468                         2306.98              2306.98  \n",
       "3469                          502.84               502.84  \n",
       "3470                           16.28                16.28  \n",
       "\n",
       "[5 rows x 200 columns]"
      ]
     },
     "execution_count": 9,
     "metadata": {},
     "output_type": "execute_result"
    }
   ],
   "source": [
    "vars_keep_df = pd.DataFrame({'col':vars_keep})\n",
    "vars_keep_df.to_csv('vars_keep_filter.csv',index=False)\n",
    "df_keep = df_top.filter(vars_keep, axis=1)\n",
    "df_keep.head()"
   ]
  },
  {
   "cell_type": "code",
   "execution_count": 10,
   "metadata": {},
   "outputs": [
    {
     "data": {
      "text/plain": [
       "(81476, 200)"
      ]
     },
     "execution_count": 10,
     "metadata": {},
     "output_type": "execute_result"
    }
   ],
   "source": [
    "df_keep.shape"
   ]
  },
  {
   "cell_type": "code",
   "execution_count": 11,
   "metadata": {},
   "outputs": [
    {
     "data": {
      "text/html": [
       "<div>\n",
       "<style scoped>\n",
       "    .dataframe tbody tr th:only-of-type {\n",
       "        vertical-align: middle;\n",
       "    }\n",
       "\n",
       "    .dataframe tbody tr th {\n",
       "        vertical-align: top;\n",
       "    }\n",
       "\n",
       "    .dataframe thead th {\n",
       "        text-align: right;\n",
       "    }\n",
       "</style>\n",
       "<table border=\"1\" class=\"dataframe\">\n",
       "  <thead>\n",
       "    <tr style=\"text-align: right;\">\n",
       "      <th></th>\n",
       "      <th>Fraud</th>\n",
       "    </tr>\n",
       "    <tr>\n",
       "      <th>Recnum</th>\n",
       "      <th></th>\n",
       "    </tr>\n",
       "  </thead>\n",
       "  <tbody>\n",
       "    <tr>\n",
       "      <th>3466</th>\n",
       "      <td>0</td>\n",
       "    </tr>\n",
       "    <tr>\n",
       "      <th>3467</th>\n",
       "      <td>0</td>\n",
       "    </tr>\n",
       "    <tr>\n",
       "      <th>3468</th>\n",
       "      <td>0</td>\n",
       "    </tr>\n",
       "    <tr>\n",
       "      <th>3469</th>\n",
       "      <td>0</td>\n",
       "    </tr>\n",
       "    <tr>\n",
       "      <th>3470</th>\n",
       "      <td>0</td>\n",
       "    </tr>\n",
       "  </tbody>\n",
       "</table>\n",
       "</div>"
      ],
      "text/plain": [
       "        Fraud\n",
       "Recnum       \n",
       "3466        0\n",
       "3467        0\n",
       "3468        0\n",
       "3469        0\n",
       "3470        0"
      ]
     },
     "execution_count": 11,
     "metadata": {},
     "output_type": "execute_result"
    }
   ],
   "source": [
    "Y.head()"
   ]
  },
  {
   "cell_type": "code",
   "execution_count": 12,
   "metadata": {},
   "outputs": [],
   "source": [
    "Y = Y.values.ravel()\n",
    "Y_save = Y.copy()"
   ]
  },
  {
   "cell_type": "code",
   "execution_count": 13,
   "metadata": {},
   "outputs": [
    {
     "name": "stdout",
     "output_type": "stream",
     "text": [
      "[0 0 0 ... 0 0 0]\n"
     ]
    }
   ],
   "source": [
    "# Y = np.array(Y)\n",
    "X = df_keep\n",
    "print(Y)"
   ]
  },
  {
   "cell_type": "code",
   "execution_count": 14,
   "metadata": {},
   "outputs": [
    {
     "name": "stdout",
     "output_type": "stream",
     "text": [
      "time to here: 0:01:29.350912\n"
     ]
    }
   ],
   "source": [
    "print('time to here:', dt.datetime.now() - start_time)"
   ]
  },
  {
   "cell_type": "code",
   "execution_count": 15,
   "metadata": {},
   "outputs": [
    {
     "name": "stdout",
     "output_type": "stream",
     "text": [
      "(81476, 200) (81476,)\n"
     ]
    }
   ],
   "source": [
    "print(X.shape,Y.shape)"
   ]
  },
  {
   "cell_type": "code",
   "execution_count": 16,
   "metadata": {},
   "outputs": [
    {
     "name": "stdout",
     "output_type": "stream",
     "text": [
      "<class 'pandas.core.frame.DataFrame'> <class 'numpy.ndarray'>\n"
     ]
    }
   ],
   "source": [
    "print(type(X),type(Y))"
   ]
  },
  {
   "cell_type": "code",
   "execution_count": 17,
   "metadata": {},
   "outputs": [],
   "source": [
    "# I'd like to define a scoring for the wrapper that's KS, but I haven't gotten around to this yet.\n",
    "# def KSscore(classifier, x,y)"
   ]
  },
  {
   "cell_type": "code",
   "execution_count": 18,
   "metadata": {},
   "outputs": [],
   "source": [
    "def fdr(classifier, x, y, cutoff=0.03):\n",
    "    # Calculates FDR score for the given classifier on dataset x and y with cutoff value\n",
    "    return fdr_prob(y, classifier.predict_proba(x), cutoff)\n",
    "\n",
    "def fdr_prob(y, y_prob, cutoff=0.03):\n",
    "    if len(y_prob.shape) > 1:  # Check if y_prob is multi-dimensional\n",
    "        y_prob = y_prob[:, -1]  # Use the last column if it's for the positive class\n",
    "    y_prob = y_prob.flatten()  # Ensure y_prob is 1D\n",
    "    num_fraud = np.sum(y == 1)  # Count the total number of frauds\n",
    "\n",
    "    # Sort the proba list from high to low while retaining the true (not predicted) fraud label\n",
    "    sorted_prob = np.array(sorted(zip(y_prob, y), key=lambda x: x[0], reverse=True))\n",
    "    cutoff_index = int(len(y) * cutoff)  # Calculate index for cutoff\n",
    "    cutoff_bin = sorted_prob[:cutoff_index, 1]  # Get labels up to the cutoff\n",
    "\n",
    "    # Return the FDR score (#fraud_in_cutoff / #total_fraud)\n",
    "    return np.sum(cutoff_bin == 1) / num_fraud if num_fraud > 0 else 0"
   ]
  },
  {
   "cell_type": "markdown",
   "metadata": {},
   "source": [
    "## Run a wrapper on the remaining top variables"
   ]
  },
  {
   "cell_type": "code",
   "execution_count": 19,
   "metadata": {},
   "outputs": [],
   "source": [
    "# This is a parallel running parameter. You can try it set to -1, but sometimes the data is too large to\n",
    "# be divided into that many threads and the next cell quits. A safe value is 1 for no parallelization but it \n",
    "# the runs slower. You might experiment to see how big you can set this for your data on your machine.\n",
    "njobs = 1"
   ]
  },
  {
   "cell_type": "code",
   "execution_count": null,
   "metadata": {
    "scrolled": true
   },
   "outputs": [],
   "source": [
    "%%time\n",
    "import warnings \n",
    "warnings.filterwarnings(\"ignore\") \n",
    "# If you're doing forward selection it's enough to stop at num_wrapper variables. \n",
    "# If you're doing backward selection you need to go through all the variables to get a sorted list of num_wrapper variables.\n",
    "\n",
    "nfeatures = len(X.columns)\n",
    "clf = RandomForestClassifier(n_estimators=5) # simple, fast nonlinear model for the wrapper\n",
    "# clf = LGBMClassifier(n_estimators=10,num_leaves=3) # simple, fast nonlinear model for the wrapper\n",
    "sfs = SFS(clf,k_features=num_wrapper,forward=True,verbose=0,scoring=fdr,cv=2,n_jobs=njobs) # use for forward selection\n",
    "# sfs = SFS(clf,k_features=1,forward=False,verbose=0,scoring=fdr,cv=2,n_jobs=njobs) # use for backward selection\n",
    "sfs.fit(X,Y)"
   ]
  },
  {
   "cell_type": "code",
   "execution_count": 68,
   "metadata": {
    "scrolled": false
   },
   "outputs": [
    {
     "data": {
      "image/png": "[encoded data removed]",
      "text/plain": [
       "<Figure size 1500x600 with 1 Axes>"
      ]
     },
     "metadata": {},
     "output_type": "display_data"
    }
   ],
   "source": [
    "from mlxtend.plotting import plot_sequential_feature_selection as plot_sfs\n",
    "fig1 = plot_sfs(sfs.get_metric_dict(),kind='std_dev', figsize=(15, 6))\n",
    "plt.xticks(np.arange(0, num_wrapper, step=5))\n",
    "plt.yticks(np.arange(0,1,step=.1))\n",
    "plt.ylim([.4,.8])\n",
    "plt.xlim(0,num_wrapper)\n",
    "plt.title('Stepwise Selection')\n",
    "plt.grid()\n",
    "plt.savefig('performance_nvars.png')\n",
    "plt.show()"
   ]
  },
  {
   "cell_type": "code",
   "execution_count": 69,
   "metadata": {},
   "outputs": [],
   "source": [
    "vars_FS = pd.DataFrame.from_dict(sfs.get_metric_dict()).T"
   ]
  },
  {
   "cell_type": "code",
   "execution_count": 70,
   "metadata": {},
   "outputs": [],
   "source": [
    "ordered_vars_FS = vars_FS.copy()\n",
    "for i in range(len(ordered_vars_FS)):\n",
    "    ordered_vars_FS.loc[i+1,'add variables in this order'] = int(i+1)\n",
    "    if i+1 == 1:\n",
    "        ordered_vars_FS.loc[i+1,'variable name'] = (list(ordered_vars_FS.loc[i+1,'feature_names'])[0])\n",
    "    else:\n",
    "        ordered_vars_FS.loc[i+1,'variable name'] = (list(set(ordered_vars_FS.loc[i+1,'feature_names']) - set(ordered_vars_FS.loc[i,'feature_names'])))[0]\n",
    "# You might also need this following line. It converts a list to a string\n",
    "#         ordered_vars_FS.loc[i+1,'variable name'] = ordered_vars_FS.loc[i+1,'variable name'][0]"
   ]
  },
  {
   "cell_type": "code",
   "execution_count": 71,
   "metadata": {
    "scrolled": false
   },
   "outputs": [
    {
     "data": {
      "text/html": [
       "<div>\n",
       "<style scoped>\n",
       "    .dataframe tbody tr th:only-of-type {\n",
       "        vertical-align: middle;\n",
       "    }\n",
       "\n",
       "    .dataframe tbody tr th {\n",
       "        vertical-align: top;\n",
       "    }\n",
       "\n",
       "    .dataframe thead th {\n",
       "        text-align: right;\n",
       "    }\n",
       "</style>\n",
       "<table border=\"1\" class=\"dataframe\">\n",
       "  <thead>\n",
       "    <tr style=\"text-align: right;\">\n",
       "      <th></th>\n",
       "      <th>feature_idx</th>\n",
       "      <th>cv_scores</th>\n",
       "      <th>avg_score</th>\n",
       "      <th>feature_names</th>\n",
       "      <th>ci_bound</th>\n",
       "      <th>std_dev</th>\n",
       "      <th>std_err</th>\n",
       "      <th>add variables in this order</th>\n",
       "      <th>variable name</th>\n",
       "    </tr>\n",
       "  </thead>\n",
       "  <tbody>\n",
       "    <tr>\n",
       "      <th>1</th>\n",
       "      <td>(3,)</td>\n",
       "      <td>[0.4233128834355828, 0.39754601226993863]</td>\n",
       "      <td>0.410429</td>\n",
       "      <td>(Cardnum_count_1,)</td>\n",
       "      <td>0.055433</td>\n",
       "      <td>0.012883</td>\n",
       "      <td>0.012883</td>\n",
       "      <td>1.0</td>\n",
       "      <td>Cardnum_count_1</td>\n",
       "    </tr>\n",
       "    <tr>\n",
       "      <th>2</th>\n",
       "      <td>(1, 3)</td>\n",
       "      <td>[0.4638036809815951, 0.4503067484662577]</td>\n",
       "      <td>0.457055</td>\n",
       "      <td>(Cardnum_total_1, Cardnum_count_1)</td>\n",
       "      <td>0.029036</td>\n",
       "      <td>0.006748</td>\n",
       "      <td>0.006748</td>\n",
       "      <td>2.0</td>\n",
       "      <td>Cardnum_total_1</td>\n",
       "    </tr>\n",
       "    <tr>\n",
       "      <th>3</th>\n",
       "      <td>(1, 3, 13)</td>\n",
       "      <td>[0.5435582822085889, 0.4920245398773006]</td>\n",
       "      <td>0.517791</td>\n",
       "      <td>(Cardnum_total_1, Cardnum_count_1, Cardnum_vdr...</td>\n",
       "      <td>0.110866</td>\n",
       "      <td>0.025767</td>\n",
       "      <td>0.025767</td>\n",
       "      <td>3.0</td>\n",
       "      <td>Cardnum_vdratio_1by60</td>\n",
       "    </tr>\n",
       "    <tr>\n",
       "      <th>4</th>\n",
       "      <td>(1, 3, 10, 13)</td>\n",
       "      <td>[0.561963190184049, 0.48711656441717793]</td>\n",
       "      <td>0.52454</td>\n",
       "      <td>(Cardnum_total_1, Cardnum_count_1, Cardnum_cou...</td>\n",
       "      <td>0.16102</td>\n",
       "      <td>0.037423</td>\n",
       "      <td>0.037423</td>\n",
       "      <td>4.0</td>\n",
       "      <td>Cardnum_count_0</td>\n",
       "    </tr>\n",
       "    <tr>\n",
       "      <th>5</th>\n",
       "      <td>(1, 3, 7, 10, 13)</td>\n",
       "      <td>[0.5644171779141104, 0.5190184049079755]</td>\n",
       "      <td>0.541718</td>\n",
       "      <td>(Cardnum_total_1, Cardnum_count_1, Cardnum_max...</td>\n",
       "      <td>0.097668</td>\n",
       "      <td>0.022699</td>\n",
       "      <td>0.022699</td>\n",
       "      <td>5.0</td>\n",
       "      <td>Cardnum_max_1</td>\n",
       "    </tr>\n",
       "  </tbody>\n",
       "</table>\n",
       "</div>"
      ],
      "text/plain": [
       "         feature_idx                                  cv_scores avg_score  \\\n",
       "1               (3,)  [0.4233128834355828, 0.39754601226993863]  0.410429   \n",
       "2             (1, 3)   [0.4638036809815951, 0.4503067484662577]  0.457055   \n",
       "3         (1, 3, 13)   [0.5435582822085889, 0.4920245398773006]  0.517791   \n",
       "4     (1, 3, 10, 13)   [0.561963190184049, 0.48711656441717793]   0.52454   \n",
       "5  (1, 3, 7, 10, 13)   [0.5644171779141104, 0.5190184049079755]  0.541718   \n",
       "\n",
       "                                       feature_names  ci_bound   std_dev  \\\n",
       "1                                 (Cardnum_count_1,)  0.055433  0.012883   \n",
       "2                 (Cardnum_total_1, Cardnum_count_1)  0.029036  0.006748   \n",
       "3  (Cardnum_total_1, Cardnum_count_1, Cardnum_vdr...  0.110866  0.025767   \n",
       "4  (Cardnum_total_1, Cardnum_count_1, Cardnum_cou...   0.16102  0.037423   \n",
       "5  (Cardnum_total_1, Cardnum_count_1, Cardnum_max...  0.097668  0.022699   \n",
       "\n",
       "    std_err  add variables in this order          variable name  \n",
       "1  0.012883                          1.0        Cardnum_count_1  \n",
       "2  0.006748                          2.0        Cardnum_total_1  \n",
       "3  0.025767                          3.0  Cardnum_vdratio_1by60  \n",
       "4  0.037423                          4.0        Cardnum_count_0  \n",
       "5  0.022699                          5.0          Cardnum_max_1  "
      ]
     },
     "execution_count": 71,
     "metadata": {},
     "output_type": "execute_result"
    }
   ],
   "source": [
    "ordered_vars_FS"
   ]
  },
  {
   "cell_type": "code",
   "execution_count": 72,
   "metadata": {},
   "outputs": [],
   "source": [
    "##ordered_vars_FS.to_csv('Wrapper_selection_info.csv', index=False)"
   ]
  },
  {
   "cell_type": "code",
   "execution_count": 73,
   "metadata": {
    "scrolled": false
   },
   "outputs": [
    {
     "data": {
      "text/plain": [
       "1          Cardnum_count_1\n",
       "2          Cardnum_total_1\n",
       "3    Cardnum_vdratio_1by60\n",
       "4          Cardnum_count_0\n",
       "5            Cardnum_max_1\n",
       "Name: variable name, dtype: object"
      ]
     },
     "execution_count": 73,
     "metadata": {},
     "output_type": "execute_result"
    }
   ],
   "source": [
    "vars_keep = ordered_vars_FS['variable name']\n",
    "vars_keep_list = ordered_vars_FS['variable name'].tolist()\n",
    "##vars_keep.to_csv('final_vars_list.csv',index=False)\n",
    "vars_keep"
   ]
  },
  {
   "cell_type": "code",
   "execution_count": 74,
   "metadata": {},
   "outputs": [
    {
     "data": {
      "text/html": [
       "<div>\n",
       "<style scoped>\n",
       "    .dataframe tbody tr th:only-of-type {\n",
       "        vertical-align: middle;\n",
       "    }\n",
       "\n",
       "    .dataframe tbody tr th {\n",
       "        vertical-align: top;\n",
       "    }\n",
       "\n",
       "    .dataframe thead th {\n",
       "        text-align: right;\n",
       "    }\n",
       "</style>\n",
       "<table border=\"1\" class=\"dataframe\">\n",
       "  <thead>\n",
       "    <tr style=\"text-align: right;\">\n",
       "      <th></th>\n",
       "      <th>filter score</th>\n",
       "    </tr>\n",
       "    <tr>\n",
       "      <th>variable</th>\n",
       "      <th></th>\n",
       "    </tr>\n",
       "  </thead>\n",
       "  <tbody>\n",
       "    <tr>\n",
       "      <th>Cardnum_total_3</th>\n",
       "      <td>0.621932</td>\n",
       "    </tr>\n",
       "    <tr>\n",
       "      <th>Cardnum_total_1</th>\n",
       "      <td>0.619658</td>\n",
       "    </tr>\n",
       "    <tr>\n",
       "      <th>Cardnum_total_0</th>\n",
       "      <td>0.591318</td>\n",
       "    </tr>\n",
       "    <tr>\n",
       "      <th>Cardnum_count_1</th>\n",
       "      <td>0.567429</td>\n",
       "    </tr>\n",
       "    <tr>\n",
       "      <th>Cardnum_total_7</th>\n",
       "      <td>0.564245</td>\n",
       "    </tr>\n",
       "    <tr>\n",
       "      <th>...</th>\n",
       "      <td>...</td>\n",
       "    </tr>\n",
       "    <tr>\n",
       "      <th>Card_Merchdesc_Zip_unique_count_for_Merchdesc_State_60</th>\n",
       "      <td>0.000038</td>\n",
       "    </tr>\n",
       "    <tr>\n",
       "      <th>merch_zip_unique_count_for_merch_state_14</th>\n",
       "      <td>0.000025</td>\n",
       "    </tr>\n",
       "    <tr>\n",
       "      <th>merch_zip_unique_count_for_merch_state_7</th>\n",
       "      <td>0.000013</td>\n",
       "    </tr>\n",
       "    <tr>\n",
       "      <th>Merchnum_desc_Zip_unique_count_for_Merchnum_desc_State_14</th>\n",
       "      <td>0.000013</td>\n",
       "    </tr>\n",
       "    <tr>\n",
       "      <th>card_merch_unique_count_for_Cardnum_1</th>\n",
       "      <td>0.000000</td>\n",
       "    </tr>\n",
       "  </tbody>\n",
       "</table>\n",
       "<p>2634 rows × 1 columns</p>\n",
       "</div>"
      ],
      "text/plain": [
       "                                                    filter score\n",
       "variable                                                        \n",
       "Cardnum_total_3                                         0.621932\n",
       "Cardnum_total_1                                         0.619658\n",
       "Cardnum_total_0                                         0.591318\n",
       "Cardnum_count_1                                         0.567429\n",
       "Cardnum_total_7                                         0.564245\n",
       "...                                                          ...\n",
       "Card_Merchdesc_Zip_unique_count_for_Merchdesc_S...      0.000038\n",
       "merch_zip_unique_count_for_merch_state_14               0.000025\n",
       "merch_zip_unique_count_for_merch_state_7                0.000013\n",
       "Merchnum_desc_Zip_unique_count_for_Merchnum_des...      0.000013\n",
       "card_merch_unique_count_for_Cardnum_1                   0.000000\n",
       "\n",
       "[2634 rows x 1 columns]"
      ]
     },
     "execution_count": 74,
     "metadata": {},
     "output_type": "execute_result"
    }
   ],
   "source": [
    "filter_score.set_index('variable',drop=True,inplace=True)\n",
    "filter_score = filter_score.iloc[1:,:]\n",
    "filter_score"
   ]
  },
  {
   "cell_type": "code",
   "execution_count": 75,
   "metadata": {
    "scrolled": true
   },
   "outputs": [
    {
     "data": {
      "text/html": [
       "<div>\n",
       "<style scoped>\n",
       "    .dataframe tbody tr th:only-of-type {\n",
       "        vertical-align: middle;\n",
       "    }\n",
       "\n",
       "    .dataframe tbody tr th {\n",
       "        vertical-align: top;\n",
       "    }\n",
       "\n",
       "    .dataframe thead th {\n",
       "        text-align: right;\n",
       "    }\n",
       "</style>\n",
       "<table border=\"1\" class=\"dataframe\">\n",
       "  <thead>\n",
       "    <tr style=\"text-align: right;\">\n",
       "      <th></th>\n",
       "    </tr>\n",
       "    <tr>\n",
       "      <th>variable</th>\n",
       "    </tr>\n",
       "  </thead>\n",
       "  <tbody>\n",
       "    <tr>\n",
       "      <th>Cardnum_count_1</th>\n",
       "    </tr>\n",
       "    <tr>\n",
       "      <th>Cardnum_total_1</th>\n",
       "    </tr>\n",
       "    <tr>\n",
       "      <th>Cardnum_vdratio_1by60</th>\n",
       "    </tr>\n",
       "    <tr>\n",
       "      <th>Cardnum_count_0</th>\n",
       "    </tr>\n",
       "    <tr>\n",
       "      <th>Cardnum_max_1</th>\n",
       "    </tr>\n",
       "  </tbody>\n",
       "</table>\n",
       "</div>"
      ],
      "text/plain": [
       "Empty DataFrame\n",
       "Columns: []\n",
       "Index: [Cardnum_count_1, Cardnum_total_1, Cardnum_vdratio_1by60, Cardnum_count_0, Cardnum_max_1]"
      ]
     },
     "execution_count": 75,
     "metadata": {},
     "output_type": "execute_result"
    }
   ],
   "source": [
    "vars_keep_sorted = pd.DataFrame(vars_keep_list)\n",
    "vars_keep_sorted.columns=['variable']\n",
    "vars_keep_sorted.set_index('variable',drop=True,inplace=True)\n",
    "vars_keep_sorted.head()"
   ]
  },
  {
   "cell_type": "code",
   "execution_count": 76,
   "metadata": {
    "scrolled": false
   },
   "outputs": [],
   "source": [
    "vars_keep_sorted = pd.concat([vars_keep_sorted,filter_score],axis=1,join='inner')"
   ]
  },
  {
   "cell_type": "code",
   "execution_count": 77,
   "metadata": {
    "scrolled": false
   },
   "outputs": [
    {
     "data": {
      "text/html": [
       "<div>\n",
       "<style scoped>\n",
       "    .dataframe tbody tr th:only-of-type {\n",
       "        vertical-align: middle;\n",
       "    }\n",
       "\n",
       "    .dataframe tbody tr th {\n",
       "        vertical-align: top;\n",
       "    }\n",
       "\n",
       "    .dataframe thead th {\n",
       "        text-align: right;\n",
       "    }\n",
       "</style>\n",
       "<table border=\"1\" class=\"dataframe\">\n",
       "  <thead>\n",
       "    <tr style=\"text-align: right;\">\n",
       "      <th></th>\n",
       "      <th>wrapper order</th>\n",
       "      <th>variable</th>\n",
       "      <th>filter score</th>\n",
       "    </tr>\n",
       "  </thead>\n",
       "  <tbody>\n",
       "    <tr>\n",
       "      <th>0</th>\n",
       "      <td>1</td>\n",
       "      <td>Cardnum_count_1</td>\n",
       "      <td>0.567429</td>\n",
       "    </tr>\n",
       "    <tr>\n",
       "      <th>1</th>\n",
       "      <td>2</td>\n",
       "      <td>Cardnum_total_1</td>\n",
       "      <td>0.619658</td>\n",
       "    </tr>\n",
       "    <tr>\n",
       "      <th>2</th>\n",
       "      <td>3</td>\n",
       "      <td>Cardnum_vdratio_1by60</td>\n",
       "      <td>0.502927</td>\n",
       "    </tr>\n",
       "    <tr>\n",
       "      <th>3</th>\n",
       "      <td>4</td>\n",
       "      <td>Cardnum_count_0</td>\n",
       "      <td>0.516123</td>\n",
       "    </tr>\n",
       "    <tr>\n",
       "      <th>4</th>\n",
       "      <td>5</td>\n",
       "      <td>Cardnum_max_1</td>\n",
       "      <td>0.532080</td>\n",
       "    </tr>\n",
       "  </tbody>\n",
       "</table>\n",
       "</div>"
      ],
      "text/plain": [
       "   wrapper order               variable  filter score\n",
       "0              1        Cardnum_count_1      0.567429\n",
       "1              2        Cardnum_total_1      0.619658\n",
       "2              3  Cardnum_vdratio_1by60      0.502927\n",
       "3              4        Cardnum_count_0      0.516123\n",
       "4              5          Cardnum_max_1      0.532080"
      ]
     },
     "execution_count": 77,
     "metadata": {},
     "output_type": "execute_result"
    }
   ],
   "source": [
    "vars_keep_sorted.reset_index(inplace=True)\n",
    "vars_keep_sorted.reset_index(inplace=True)\n",
    "vars_keep_sorted['index'] = vars_keep_sorted['index'] + 1\n",
    "vars_keep_sorted.rename(columns={'index':'wrapper order'},inplace=True)\n",
    "vars_keep_sorted.to_csv('vars_keep_sorted.csv',index=False)\n",
    "vars_keep_sorted"
   ]
  },
  {
   "cell_type": "code",
   "execution_count": 78,
   "metadata": {
    "scrolled": false
   },
   "outputs": [
    {
     "data": {
      "text/plain": [
       "['Cardnum_count_1',\n",
       " 'Cardnum_total_1',\n",
       " 'Cardnum_vdratio_1by60',\n",
       " 'Cardnum_count_0',\n",
       " 'Cardnum_max_1',\n",
       " 'Recnum',\n",
       " 'Fraud']"
      ]
     },
     "execution_count": 78,
     "metadata": {},
     "output_type": "execute_result"
    }
   ],
   "source": [
    "vars_keep_list.append(index_name)\n",
    "vars_keep_list.append(y_name)\n",
    "vars_keep_list"
   ]
  },
  {
   "cell_type": "code",
   "execution_count": 79,
   "metadata": {
    "scrolled": false
   },
   "outputs": [
    {
     "data": {
      "text/html": [
       "<div>\n",
       "<style scoped>\n",
       "    .dataframe tbody tr th:only-of-type {\n",
       "        vertical-align: middle;\n",
       "    }\n",
       "\n",
       "    .dataframe tbody tr th {\n",
       "        vertical-align: top;\n",
       "    }\n",
       "\n",
       "    .dataframe thead th {\n",
       "        text-align: right;\n",
       "    }\n",
       "</style>\n",
       "<table border=\"1\" class=\"dataframe\">\n",
       "  <thead>\n",
       "    <tr style=\"text-align: right;\">\n",
       "      <th></th>\n",
       "      <th>filter score</th>\n",
       "    </tr>\n",
       "    <tr>\n",
       "      <th>variable</th>\n",
       "      <th></th>\n",
       "    </tr>\n",
       "  </thead>\n",
       "  <tbody>\n",
       "    <tr>\n",
       "      <th>Cardnum_total_3</th>\n",
       "      <td>0.621932</td>\n",
       "    </tr>\n",
       "    <tr>\n",
       "      <th>Cardnum_total_1</th>\n",
       "      <td>0.619658</td>\n",
       "    </tr>\n",
       "    <tr>\n",
       "      <th>Cardnum_total_0</th>\n",
       "      <td>0.591318</td>\n",
       "    </tr>\n",
       "    <tr>\n",
       "      <th>Cardnum_count_1</th>\n",
       "      <td>0.567429</td>\n",
       "    </tr>\n",
       "    <tr>\n",
       "      <th>Cardnum_total_7</th>\n",
       "      <td>0.564245</td>\n",
       "    </tr>\n",
       "    <tr>\n",
       "      <th>...</th>\n",
       "      <td>...</td>\n",
       "    </tr>\n",
       "    <tr>\n",
       "      <th>Card_Merchdesc_Zip_unique_count_for_Merchdesc_State_60</th>\n",
       "      <td>0.000038</td>\n",
       "    </tr>\n",
       "    <tr>\n",
       "      <th>merch_zip_unique_count_for_merch_state_14</th>\n",
       "      <td>0.000025</td>\n",
       "    </tr>\n",
       "    <tr>\n",
       "      <th>merch_zip_unique_count_for_merch_state_7</th>\n",
       "      <td>0.000013</td>\n",
       "    </tr>\n",
       "    <tr>\n",
       "      <th>Merchnum_desc_Zip_unique_count_for_Merchnum_desc_State_14</th>\n",
       "      <td>0.000013</td>\n",
       "    </tr>\n",
       "    <tr>\n",
       "      <th>card_merch_unique_count_for_Cardnum_1</th>\n",
       "      <td>0.000000</td>\n",
       "    </tr>\n",
       "  </tbody>\n",
       "</table>\n",
       "<p>2634 rows × 1 columns</p>\n",
       "</div>"
      ],
      "text/plain": [
       "                                                    filter score\n",
       "variable                                                        \n",
       "Cardnum_total_3                                         0.621932\n",
       "Cardnum_total_1                                         0.619658\n",
       "Cardnum_total_0                                         0.591318\n",
       "Cardnum_count_1                                         0.567429\n",
       "Cardnum_total_7                                         0.564245\n",
       "...                                                          ...\n",
       "Card_Merchdesc_Zip_unique_count_for_Merchdesc_S...      0.000038\n",
       "merch_zip_unique_count_for_merch_state_14               0.000025\n",
       "merch_zip_unique_count_for_merch_state_7                0.000013\n",
       "Merchnum_desc_Zip_unique_count_for_Merchnum_des...      0.000013\n",
       "card_merch_unique_count_for_Cardnum_1                   0.000000\n",
       "\n",
       "[2634 rows x 1 columns]"
      ]
     },
     "execution_count": 79,
     "metadata": {},
     "output_type": "execute_result"
    }
   ],
   "source": [
    "filter_score"
   ]
  },
  {
   "cell_type": "code",
   "execution_count": 80,
   "metadata": {},
   "outputs": [
    {
     "name": "stdout",
     "output_type": "stream",
     "text": [
      "CPU times: total: 36.6 s\n",
      "Wall time: 56.2 s\n"
     ]
    },
    {
     "data": {
      "text/plain": [
       "(97496, 2635)"
      ]
     },
     "execution_count": 80,
     "metadata": {},
     "output_type": "execute_result"
    }
   ],
   "source": [
    "%%time\n",
    "df = pd.read_csv(file_name)\n",
    "df.shape"
   ]
  },
  {
   "cell_type": "code",
   "execution_count": 81,
   "metadata": {},
   "outputs": [
    {
     "name": "stdout",
     "output_type": "stream",
     "text": [
      "(97496, 7)\n"
     ]
    }
   ],
   "source": [
    "df_keep = df.filter(vars_keep_list, axis=1)\n",
    "# df_keep = df[df.index.isin(vars_keep_list)]\n",
    "print(df_keep.shape)"
   ]
  },
  {
   "cell_type": "code",
   "execution_count": 82,
   "metadata": {},
   "outputs": [],
   "source": [
    "##2df_keep.to_csv('vars_final.csv',index=False)"
   ]
  },
  {
   "cell_type": "code",
   "execution_count": 83,
   "metadata": {},
   "outputs": [
    {
     "name": "stdout",
     "output_type": "stream",
     "text": [
      "duration:  0:04:02.342309\n"
     ]
    }
   ],
   "source": [
    "print(\"duration: \", dt.datetime.now() - start_time)"
   ]
  },
  {
   "cell_type": "code",
   "execution_count": 84,
   "metadata": {},
   "outputs": [
    {
     "data": {
      "text/plain": [
       "'c:\\\\Users\\\\Facundo\\\\OneDrive - University of California\\\\Study\\\\UCLA-MSBA\\\\4- Fourth quarter\\\\Fraud Analytics\\\\Assignement 3'"
      ]
     },
     "execution_count": 84,
     "metadata": {},
     "output_type": "execute_result"
    }
   ],
   "source": [
    "%pwd"
   ]
  }
 ],
 "metadata": {
  "anaconda-cloud": {},
  "kernelspec": {
   "display_name": "base",
   "language": "python",
   "name": "python3"
  },
  "language_info": {
   "codemirror_mode": {
    "name": "ipython",
    "version": 3
   },
   "file_extension": ".py",
   "mimetype": "text/x-python",
   "name": "python",
   "nbconvert_exporter": "python",
   "pygments_lexer": "ipython3",
   "version": "3.10.13"
  }
 },
 "nbformat": 4,
 "nbformat_minor": 1
}
