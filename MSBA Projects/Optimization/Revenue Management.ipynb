{
 "cells": [
  {
   "cell_type": "markdown",
   "metadata": {},
   "source": [
    "# Homework 1 - LP duality and Revenue Management"
   ]
  },
  {
   "cell_type": "code",
   "execution_count": 152,
   "metadata": {},
   "outputs": [],
   "source": [
    "import numpy as np\n",
    "from gurobipy import *"
   ]
  },
  {
   "cell_type": "markdown",
   "metadata": {},
   "source": [
    "## 1 Semiconductor Manufacturing"
   ]
  },
  {
   "cell_type": "markdown",
   "metadata": {},
   "source": [
    "### Part 1: LP Formulation"
   ]
  },
  {
   "cell_type": "code",
   "execution_count": 153,
   "metadata": {},
   "outputs": [
    {
     "name": "stdout",
     "output_type": "stream",
     "text": [
      "Gurobi Optimizer version 11.0.0 build v11.0.0rc2 (win64 - Windows 11+.0 (22631.2))\n",
      "\n",
      "CPU model: Intel(R) Core(TM) i7-8550U CPU @ 1.80GHz, instruction set [SSE2|AVX|AVX2]\n",
      "Thread count: 4 physical cores, 8 logical processors, using up to 8 threads\n",
      "\n",
      "Optimize a model with 3 rows, 3 columns and 9 nonzeros\n",
      "Model fingerprint: 0xc6454fc5\n",
      "Coefficient statistics:\n",
      "  Matrix range     [1e+01, 5e+01]\n",
      "  Objective range  [5e+02, 1e+03]\n",
      "  Bounds range     [0e+00, 0e+00]\n",
      "  RHS range        [2e+02, 1e+03]\n",
      "Presolve removed 1 rows and 0 columns\n",
      "Presolve time: 0.01s\n",
      "Presolved: 2 rows, 3 columns, 6 nonzeros\n",
      "\n",
      "Iteration    Objective       Primal Inf.    Dual Inf.      Time\n",
      "       0    1.2000000e+04   8.114000e+00   0.000000e+00      0s\n",
      "       2    9.6000000e+03   0.000000e+00   0.000000e+00      0s\n",
      "\n",
      "Solved in 2 iterations and 0.02 seconds (0.00 work units)\n",
      "Optimal objective  9.600000000e+03\n",
      "Optimal Value: 9600.0\n"
     ]
    }
   ],
   "source": [
    "# Create the model. \n",
    "m = Model()\n",
    "\n",
    "# Add the variables. \n",
    "# addVar() will just add a single variable.\n",
    "x_1 = m.addVar() #this creates a continuous variable with a minmun of 0 and maximun of infinity, no need for non-negativity\n",
    "x_2 = m.addVar()\n",
    "x_3 = m.addVar()\n",
    "\n",
    "# Create the constraints. \n",
    "# Resource constraints:\n",
    "Ge_transistors = m.addConstr( 14*x_1 + 20*x_2 +  40*x_3  <= 300)\n",
    "Si_transistors=  m.addConstr(30*x_1 + 20*x_2 +  15*x_3  <= 200)\n",
    "Time_minutes =  m.addConstr(  20*x_1 + 30*x_2 + 50*x_3  <= 1080)\n",
    "\n",
    "# Create the objective function.\n",
    "m.setObjective(500*x_1 + 800*x_2 + 1000*x_3, GRB.MAXIMIZE)\n",
    "\n",
    "# Update and solve\n",
    "m.update()\n",
    "\n",
    "m.optimize()\n",
    "\n",
    "###############################################\n",
    "# Print Optimal Solution\n",
    "print(\"Optimal Value:\", m.objVal)"
   ]
  },
  {
   "cell_type": "code",
   "execution_count": 154,
   "metadata": {},
   "outputs": [
    {
     "name": "stdout",
     "output_type": "stream",
     "text": [
      "2\n",
      "Solved to optimality\n",
      "Number of Chips Type 1:  0.0\n",
      "Number of Chips Type 2:  7.0\n",
      "Number of Chips Type 3:  4.0\n",
      "Optimal objective:  9600.0\n"
     ]
    }
   ],
   "source": [
    "# Extract the solution status. \n",
    "status = m.status\n",
    "print(status)\n",
    "if status == GRB.OPTIMAL:\n",
    "    print(\"Solved to optimality\")\n",
    "    \n",
    "# Extract the optimal values of the decision variables.\n",
    "Chip_1_value = x_1.x\n",
    "Chip_2_value = x_2.x\n",
    "Chip_3_value = x_3.x\n",
    "\n",
    "print(\"Number of Chips Type 1: \", Chip_1_value)\n",
    "print(\"Number of Chips Type 2: \", Chip_2_value)\n",
    "print(\"Number of Chips Type 3: \", Chip_3_value)\n",
    "\n",
    "# Extract the optimal objective value.\n",
    "optimal_obj_original = m.objval\n",
    "print(\"Optimal objective: \", optimal_obj_original)"
   ]
  },
  {
   "cell_type": "markdown",
   "metadata": {},
   "source": [
    "### Part 2: Dual Formulation"
   ]
  },
  {
   "cell_type": "code",
   "execution_count": 155,
   "metadata": {},
   "outputs": [
    {
     "name": "stdout",
     "output_type": "stream",
     "text": [
      "Gurobi Optimizer version 11.0.0 build v11.0.0rc2 (win64 - Windows 11+.0 (22631.2))\n",
      "\n",
      "CPU model: Intel(R) Core(TM) i7-8550U CPU @ 1.80GHz, instruction set [SSE2|AVX|AVX2]\n",
      "Thread count: 4 physical cores, 8 logical processors, using up to 8 threads\n",
      "\n",
      "Optimize a model with 3 rows, 3 columns and 9 nonzeros\n",
      "Model fingerprint: 0xcdc0bb64\n",
      "Coefficient statistics:\n",
      "  Matrix range     [1e+01, 5e+01]\n",
      "  Objective range  [2e+02, 1e+03]\n",
      "  Bounds range     [0e+00, 0e+00]\n",
      "  RHS range        [5e+02, 1e+03]\n",
      "Presolve removed 0 rows and 1 columns\n",
      "Presolve time: 0.01s\n",
      "Presolved: 3 rows, 2 columns, 6 nonzeros\n",
      "\n",
      "Iteration    Objective       Primal Inf.    Dual Inf.      Time\n",
      "       0    0.0000000e+00   2.875000e+02   0.000000e+00      0s\n",
      "       2    9.6000000e+03   0.000000e+00   0.000000e+00      0s\n",
      "\n",
      "Solved in 2 iterations and 0.02 seconds (0.00 work units)\n",
      "Optimal objective  9.600000000e+03\n"
     ]
    }
   ],
   "source": [
    "m_dual = Model()\n",
    "\n",
    "Ge = m_dual.addVar()\n",
    "Si = m_dual.addVar()\n",
    "Minutes = m_dual.addVar()\n",
    "\n",
    "# Create the dual constraints\n",
    "m_dual.addConstr( 14*Ge + 30*Si + 20*Minutes >= 500 )\n",
    "m_dual.addConstr( 20*Ge + 20*Si + 30*Minutes  >= 800)\n",
    "m_dual.addConstr( 40*Ge + 15*Si + 50*Minutes  >= 1000 )\n",
    "\n",
    "m_dual.setObjective( 300 * Ge + 200 * Si + 1080 * Minutes, GRB.MINIMIZE)\n",
    "\n",
    "m_dual.update()\n",
    "\n",
    "m_dual.optimize()\n"
   ]
  },
  {
   "cell_type": "code",
   "execution_count": 156,
   "metadata": {},
   "outputs": [
    {
     "name": "stdout",
     "output_type": "stream",
     "text": [
      "Dual variable for Ge Transistors:  16.0\n",
      "Dual variable for Si Transistors:  24.0\n",
      "Dual variable for Minutes:  0.0\n",
      "Dual optimal objective:  9600.0\n"
     ]
    }
   ],
   "source": [
    "Ge_value = Ge.x\n",
    "Si_value = Si.x\n",
    "Minutes_value = Minutes.x\n",
    "\n",
    "print(\"Dual variable for Ge Transistors: \", Ge_value)\n",
    "print(\"Dual variable for Si Transistors: \", Si_value)\n",
    "print(\"Dual variable for Minutes: \", Minutes_value)\n",
    "\n",
    "# Extract the dual optimal objective value.\n",
    "dual_optimal_obj = m_dual.objval\n",
    "print(\"Dual optimal objective: \", dual_optimal_obj)"
   ]
  },
  {
   "cell_type": "markdown",
   "metadata": {},
   "source": [
    "Verifying that optimal values of dual variables are equal to the shadow prices of the formulation in part 1:"
   ]
  },
  {
   "cell_type": "code",
   "execution_count": 157,
   "metadata": {},
   "outputs": [
    {
     "name": "stdout",
     "output_type": "stream",
     "text": [
      "Shadow price of Ge transistor: 16.0\n",
      "Shadow price of Si transistor: 24.0\n",
      "Shadow price of time minutes: 0.0\n"
     ]
    }
   ],
   "source": [
    "## Shadow prices of the constraints part 1\n",
    "print(f\"Shadow price of Ge transistor: {Ge_transistors.pi}\")\n",
    "print(f\"Shadow price of Si transistor: {Si_transistors.pi}\")\n",
    "print(f\"Shadow price of time minutes: {Time_minutes.pi}\")"
   ]
  },
  {
   "cell_type": "markdown",
   "metadata": {},
   "source": [
    "### Part 3: Shadow Prices / Marginal Analysis"
   ]
  },
  {
   "cell_type": "markdown",
   "metadata": {},
   "source": [
    "**a):** No, increasing the amount of manufacturing time by 10 hours is not going to improve our revenue. This is because as we saw in our optimal dual variable value for the constraint of minutes, adding an additional small change in minutes at the RHS will return 0.0 improvement in our revenue. Each additional minute of manufacturing process would bring an additional marginal revenue of $USD 0. Given that the shadow price of minutes is 0, it means that the constraint is not binding. This implies that the optimal solution will not change if the constraint is relaxed. This is because the constraint is not limiting the optimal solution."
   ]
  },
  {
   "cell_type": "markdown",
   "metadata": {},
   "source": [
    "**b):** Given that the shadow price of Ge transistor is 16, an increase in 1 billion Ge transistors will yield USD 16 aditional revenue. Therefore, I expect that an increase of 10 billion Ge transistors will yield $USD 160 of additional revenue. A total of 9600 + 160 = 9760"
   ]
  },
  {
   "cell_type": "markdown",
   "metadata": {},
   "source": [
    "**c):** When I solved the optimization problem in part 1 by modifying the RHS of the constraint, I could verify the prediction in part 3 b. "
   ]
  },
  {
   "cell_type": "code",
   "execution_count": 158,
   "metadata": {},
   "outputs": [
    {
     "name": "stdout",
     "output_type": "stream",
     "text": [
      "Gurobi Optimizer version 11.0.0 build v11.0.0rc2 (win64 - Windows 11+.0 (22631.2))\n",
      "\n",
      "CPU model: Intel(R) Core(TM) i7-8550U CPU @ 1.80GHz, instruction set [SSE2|AVX|AVX2]\n",
      "Thread count: 4 physical cores, 8 logical processors, using up to 8 threads\n",
      "\n",
      "Optimize a model with 3 rows, 3 columns and 9 nonzeros\n",
      "Coefficient statistics:\n",
      "  Matrix range     [1e+01, 5e+01]\n",
      "  Objective range  [5e+02, 1e+03]\n",
      "  Bounds range     [0e+00, 0e+00]\n",
      "  RHS range        [2e+02, 1e+03]\n",
      "LP warm-start: use basis\n",
      "Iteration    Objective       Primal Inf.    Dual Inf.      Time\n",
      "       0    9.7600000e+03   0.000000e+00   0.000000e+00      0s\n",
      "\n",
      "Solved in 0 iterations and 0.01 seconds (0.00 work units)\n",
      "Optimal objective  9.760000000e+03\n",
      "Optimal objective: $USD  9760.0\n",
      "Increase in revenue by increasing Ge by 10: $USD  160.0\n"
     ]
    }
   ],
   "source": [
    "Ge_transistors.rhs = 310\n",
    "m.update()\n",
    "m.optimize()\n",
    "optimal_obj_change_1 = m.objval\n",
    "print(\"Optimal objective: $USD \", optimal_obj_change_1)\n",
    "print(\"Increase in revenue by increasing Ge by 10: $USD \", optimal_obj_change_1 - optimal_obj_original)"
   ]
  },
  {
   "cell_type": "markdown",
   "metadata": {},
   "source": [
    "**d):** In this case, since we are duplicating the amount of Ge transistors (It is not a small change), I believe that the result **is not** going to be the estimation 300*Ge_shadow_price = $USD 4800 increase in revenue. The increase in revenue should be less than $USD 4800. This is because I expect that either the constraint minutes or Si transistors are now going to be limiting the optimal solution."
   ]
  },
  {
   "cell_type": "markdown",
   "metadata": {},
   "source": [
    "**e):**"
   ]
  },
  {
   "cell_type": "code",
   "execution_count": 159,
   "metadata": {},
   "outputs": [
    {
     "name": "stdout",
     "output_type": "stream",
     "text": [
      "Gurobi Optimizer version 11.0.0 build v11.0.0rc2 (win64 - Windows 11+.0 (22631.2))\n",
      "\n",
      "CPU model: Intel(R) Core(TM) i7-8550U CPU @ 1.80GHz, instruction set [SSE2|AVX|AVX2]\n",
      "Thread count: 4 physical cores, 8 logical processors, using up to 8 threads\n",
      "\n",
      "Optimize a model with 3 rows, 3 columns and 9 nonzeros\n",
      "Coefficient statistics:\n",
      "  Matrix range     [1e+01, 5e+01]\n",
      "  Objective range  [5e+02, 1e+03]\n",
      "  Bounds range     [0e+00, 0e+00]\n",
      "  RHS range        [2e+02, 1e+03]\n",
      "LP warm-start: use basis\n",
      "Iteration    Objective       Primal Inf.    Dual Inf.      Time\n",
      "       0    1.4400000e+04   8.000000e+00   0.000000e+00      0s\n",
      "       1    1.3333333e+04   0.000000e+00   0.000000e+00      0s\n",
      "\n",
      "Solved in 1 iterations and 0.02 seconds (0.00 work units)\n",
      "Optimal objective  1.333333333e+04\n",
      "Optimal objective: $USD 13333\n",
      "Increase in revenue by increasing Ge by 300: $USD 3733\n"
     ]
    }
   ],
   "source": [
    "Ge_transistors.rhs = 600\n",
    "m.update()\n",
    "m.optimize()\n",
    "optimal_obj_change_2 = m.objval\n",
    "print(f\"Optimal objective: $USD {optimal_obj_change_2:.0f}\")\n",
    "print(f\"Increase in revenue by increasing Ge by 300: $USD {(optimal_obj_change_2 - optimal_obj_original):.0f}\")"
   ]
  },
  {
   "cell_type": "markdown",
   "metadata": {},
   "source": [
    "**Ans:** There are discrepancies because as I mentioned before, the constraint minutes, Si or both are going to be binding the optimal solution. That is, limiting the production of chips and therefore the revenue. "
   ]
  },
  {
   "cell_type": "markdown",
   "metadata": {},
   "source": [
    "**f):** in this case, since we are changing more than one constraint, and the changes are small perturbations of $\\delta$, then the approximation will hold. Using shadow prices, I can expect the increase in revenue to be: 16\\*10 + 24\\*20 = $USD 640"
   ]
  },
  {
   "cell_type": "markdown",
   "metadata": {},
   "source": [
    "**g)** When increasing Ge by 10 and Si by 20, and modifying the rhs of the constraints Ge_transistors to 310 and Si_transistors to 220. We can verify that the new optimal revenue expected is USD 10240. And the increase in comparison to part 1-b) is 640 as stated before. "
   ]
  },
  {
   "cell_type": "code",
   "execution_count": 160,
   "metadata": {},
   "outputs": [
    {
     "name": "stdout",
     "output_type": "stream",
     "text": [
      "Gurobi Optimizer version 11.0.0 build v11.0.0rc2 (win64 - Windows 11+.0 (22631.2))\n",
      "\n",
      "CPU model: Intel(R) Core(TM) i7-8550U CPU @ 1.80GHz, instruction set [SSE2|AVX|AVX2]\n",
      "Thread count: 4 physical cores, 8 logical processors, using up to 8 threads\n",
      "\n",
      "Optimize a model with 3 rows, 3 columns and 9 nonzeros\n",
      "Coefficient statistics:\n",
      "  Matrix range     [1e+01, 5e+01]\n",
      "  Objective range  [5e+02, 1e+03]\n",
      "  Bounds range     [0e+00, 0e+00]\n",
      "  RHS range        [2e+02, 1e+03]\n",
      "LP warm-start: use basis\n",
      "Iteration    Objective       Primal Inf.    Dual Inf.      Time\n",
      "       0    1.4666667e+04   3.458333e+01   0.000000e+00      0s\n",
      "       1    1.0240000e+04   0.000000e+00   0.000000e+00      0s\n",
      "\n",
      "Solved in 1 iterations and 0.01 seconds (0.00 work units)\n",
      "Optimal objective  1.024000000e+04\n",
      "Optimal objective: $USD 10240\n",
      "Increase in revenue by increasing Ge by 10 and Si by 20: $USD 640\n"
     ]
    }
   ],
   "source": [
    "Ge_transistors.rhs = 310\n",
    "Si_transistors.rhs = 220\n",
    "m.update()\n",
    "m.optimize()\n",
    "optimal_obj_change_3 = m.objval\n",
    "print(f\"Optimal objective: $USD {optimal_obj_change_3:.0f}\")\n",
    "print(f\"Increase in revenue by increasing Ge by 10 and Si by 20: $USD {(optimal_obj_change_3 - optimal_obj_original):.0f}\")"
   ]
  },
  {
   "cell_type": "markdown",
   "metadata": {},
   "source": [
    "## 2 - Cloud Computing"
   ]
  },
  {
   "cell_type": "markdown",
   "metadata": {},
   "source": [
    "### Part 2: Solving Capacity control problem"
   ]
  },
  {
   "cell_type": "code",
   "execution_count": 161,
   "metadata": {},
   "outputs": [
    {
     "name": "stdout",
     "output_type": "stream",
     "text": [
      "Gurobi Optimizer version 11.0.0 build v11.0.0rc2 (win64 - Windows 11+.0 (22631.2))\n",
      "\n",
      "CPU model: Intel(R) Core(TM) i7-8550U CPU @ 1.80GHz, instruction set [SSE2|AVX|AVX2]\n",
      "Thread count: 4 physical cores, 8 logical processors, using up to 8 threads\n",
      "\n",
      "Optimize a model with 21 rows, 9 columns and 45 nonzeros\n",
      "Model fingerprint: 0xae8ece77\n",
      "Coefficient statistics:\n",
      "  Matrix range     [1e+00, 1e+02]\n",
      "  Objective range  [7e+00, 1e+02]\n",
      "  Bounds range     [2e+00, 3e+01]\n",
      "  RHS range        [2e+00, 1e+03]\n",
      "Presolve removed 18 rows and 1 columns\n",
      "Presolve time: 0.01s\n",
      "Presolved: 3 rows, 8 columns, 24 nonzeros\n",
      "\n",
      "Iteration    Objective       Primal Inf.    Dual Inf.      Time\n",
      "       0    1.4400000e+03   7.200000e+01   0.000000e+00      0s\n",
      "       3    1.0394286e+03   0.000000e+00   0.000000e+00      0s\n",
      "\n",
      "Solved in 3 iterations and 0.02 seconds (0.00 work units)\n",
      "Optimal objective  1.039428571e+03\n",
      "Allocation, forecast, objective:\n",
      "[6.28571429 0.         0.         3.42857143 0.         5.\n",
      " 4.         2.         1.5       ]\n",
      "[25.  25.   9.  15.  13.   5.   4.   2.   1.5]\n",
      "1039.4285714285716\n"
     ]
    }
   ],
   "source": [
    "# The number of instances\n",
    "nInstances = 9\n",
    "\n",
    "# price for each instance type:\n",
    "price = np.array([7, 12, 24, 22, 44, 88, 30, 90, 120])\n",
    "\n",
    "# rate of each instance type: \n",
    "rate = np.array([5.0, 5.0, 1.8, 3.0, 2.6, 1.0, 0.8, 0.4, 0.3])\n",
    "\n",
    "# Time horizon:\n",
    "T = 5\n",
    "\n",
    "# Finally, let us compute the forecasted demand for each fare type:\n",
    "forecast = T * rate\n",
    "\n",
    "# Parametrers\n",
    "CPU = np.array([16, 32, 64, 8, 16, 32, 16, 32, 64])\n",
    "Memory = np.array([8, 16, 32, 32, 64, 128, 16, 32, 64])\n",
    "GPU = np.array([1, 1, 1, 1, 1, 1, 2, 6, 8])\n",
    "\n",
    "m = Model()\n",
    "\n",
    "# Add the decision variable\n",
    "x = m.addVars(nInstances, lb = 0, ub = forecast)\n",
    "\n",
    "\n",
    "# Create the seat constraint\n",
    "CPU_constr = m.addConstr( sum(x[i] * CPU[i] for i in range(nInstances)) <= 512 )\n",
    "Memory_constr = m.addConstr( sum(x[i] * Memory[i] for i in range(nInstances)) <= 1024 )\n",
    "GPU_constr = m.addConstr( sum(x[i] * GPU[i] for i in range(nInstances)) <= 64 )\n",
    "\n",
    "for i in range(nInstances):\n",
    "    m.addConstr(x[i] >= 0)\n",
    "\n",
    "\n",
    "for i in range(nInstances):\n",
    "    m.addConstr( x[i] <= forecast[i] )\n",
    "\n",
    "# Set the objective.\n",
    "m.setObjective(sum( price[i] * x[i] for i in range(nInstances)), GRB.MAXIMIZE )\n",
    "\n",
    "# Update + solve:\n",
    "m.update()\n",
    "m.optimize()\n",
    "\n",
    "# Get the objective value\n",
    "LP_obj = m.objval\n",
    "\n",
    "# Get the allocation\n",
    "allocation = np.array([x[i].x for i in range(nInstances)])\n",
    "\n",
    "# Display the results:\n",
    "print(\"Allocation, forecast, objective:\")\n",
    "print(allocation)\n",
    "print(forecast)\n",
    "print(LP_obj)\n"
   ]
  },
  {
   "cell_type": "markdown",
   "metadata": {},
   "source": [
    "### Part 3: simulating current practice"
   ]
  },
  {
   "cell_type": "code",
   "execution_count": 162,
   "metadata": {},
   "outputs": [
    {
     "name": "stdout",
     "output_type": "stream",
     "text": [
      "the first three times in arrival sequences times[0] should be: [0.07414243 0.1246028  0.15928449]\n",
      "Average number of arrivals of type C1 in the set of simulated sequences: 26.63\n"
     ]
    }
   ],
   "source": [
    "# Preconditions:\n",
    "# nSimulations = integer specifying number of simulations to run\n",
    "# rates = array containing arrival rate (# / day) for each of the instance\n",
    "# types (should be an array with 9 elements)\n",
    "# T = length of horizon in days.\n",
    "\n",
    "def generateArrivalSequences( nSimulations, rates, T ):\n",
    "    total_rate = sum(rates)\n",
    "    nTypes = len(rates)\n",
    "\n",
    "    arrival_sequences_times = []\n",
    "    arrival_sequences_types = [];\n",
    "\n",
    "    for s in range(nSimulations):\n",
    "        single_arrival_sequence_time = [];\n",
    "        single_arrival_sequence_type = [];\n",
    "        t = 0;\n",
    "        while (t < T):\n",
    "            single_time = np.random.exponential(1.0/total_rate)\n",
    "            single_type = np.random.choice(nTypes, p= rates/total_rate )\n",
    "\n",
    "            t += single_time;\n",
    "\n",
    "            if (t < T):\n",
    "                single_arrival_sequence_time.append(t)\n",
    "                single_arrival_sequence_type.append(single_type)\n",
    "            else:\n",
    "                break\n",
    "\n",
    "        arrival_sequences_times.append(np.array(single_arrival_sequence_time))\n",
    "        arrival_sequences_types.append(np.array(single_arrival_sequence_type))\n",
    "    return arrival_sequences_times, arrival_sequences_types\n",
    "\n",
    "\n",
    "\n",
    "# Code to test out above function\n",
    "np.random.seed(10)\n",
    "nSimulations_test = 100\n",
    "rates_test = np.array([5.0, 5.0, 1.8, 3.0, 2.6, 1.0, 0.8, 0.4, 0.3])\n",
    "T_test = 5\n",
    "x, y = generateArrivalSequences(nSimulations_test, rates_test, T_test)\n",
    "\n",
    "print(f\"the first three times in arrival sequences times[0] should be: {x[0][:3]}\")\n",
    "\n",
    "C1_count = sum(np.count_nonzero(y[i] == 0) for i in range(nSimulations_test))\n",
    "print(f\"Average number of arrivals of type C1 in the set of simulated sequences: {C1_count / 100}\")\n",
    "\n"
   ]
  },
  {
   "cell_type": "markdown",
   "metadata": {},
   "source": [
    "**b):**"
   ]
  },
  {
   "cell_type": "code",
   "execution_count": 163,
   "metadata": {},
   "outputs": [
    {
     "name": "stdout",
     "output_type": "stream",
     "text": [
      "Average number of arrivals of all types in the set of simulated sequences: 101.0\n",
      "Expected value of the sum of Poisson random variables: 99.5\n"
     ]
    }
   ],
   "source": [
    "total_number_requests = sum( y[i].size for i in range(nSimulations_test))\n",
    "print(f\"Average number of arrivals of all types in the set of simulated sequences: {total_number_requests / 100}\")\n",
    "\n",
    "Poisson_total = sum(T * rate)\n",
    "print(f\"Expected value of the sum of Poisson random variables: {Poisson_total}\")"
   ]
  },
  {
   "cell_type": "code",
   "execution_count": 164,
   "metadata": {},
   "outputs": [
    {
     "name": "stdout",
     "output_type": "stream",
     "text": [
      "Average revenue: 528.28\n",
      "Average remaining capacity: [2.4000e-01 3.7152e+02 3.7420e+01]\n"
     ]
    }
   ],
   "source": [
    "# Preconditions for code below:\n",
    "# nSimulations = number of simulations to run\n",
    "# nResources = number of different types of resources (= 3)\n",
    "# B = numpy array of initial capacities of the resources\n",
    "# arrival_sequences_times = array where each entry is arrival time sequence for that\n",
    "# simulation\n",
    "# arrival_sequences_types = array where each entry is sequence of request types for\n",
    "# that simulation\n",
    "\n",
    "nSimulations = 100\n",
    "nResources = 3\n",
    "\n",
    "B = np.array([512, 1024, 64])\n",
    "price = np.array([7, 12, 24, 22, 44, 88, 30, 90, 120])\n",
    "\n",
    "arrival_sequences_times = x\n",
    "arrival_sequences_types = y\n",
    "\n",
    "# Parametrers\n",
    "CPU = np.array([16, 32, 64, 8, 16, 32, 16, 32, 64])\n",
    "Memory = np.array([8, 16, 32, 32, 64, 128, 16, 32, 64])\n",
    "GPU = np.array([1, 1, 1, 1, 1, 1, 2, 6, 8])\n",
    "\n",
    "# Note: code will not run; parts with ... need to be filled in.\n",
    "\n",
    "results_myopic_revenue = np.zeros(nSimulations)\n",
    "results_myopic_remaining_capacity = np.zeros((nResources, nSimulations))\n",
    "\n",
    "for s in range(nSimulations):\n",
    "    b = B.copy()\n",
    "    single_revenue = 0.0 # will contain the revenue of this simulation\n",
    "    nArrivals = len(arrival_sequences_times[s])\n",
    "\n",
    "    # Go through the arrivals in sequence\n",
    "    for j in range(nArrivals):\n",
    "        # Obtain the time of the arrival, and its type (i)\n",
    "        arrival_time = arrival_sequences_times[s][j]\n",
    "        i = arrival_sequences_types[s][j]\n",
    "\n",
    "        # Check if there is sufficient capacity for the request\n",
    "        if ( CPU[i] <= b[0] and Memory[i] <= b[1] and GPU[i] <= b[2] ):\n",
    "            # If there is sufficient capacity, accrue the revenue\n",
    "            single_revenue += price[i]\n",
    "            # and remove the capacity.\n",
    "            b[0] -= CPU[i]\n",
    "            b[1] -= Memory[i]\n",
    "            b[2] -= GPU[i] \n",
    "\n",
    "    # Save the results of this simulation here\n",
    "    results_myopic_revenue[s] = single_revenue\n",
    "    results_myopic_remaining_capacity[:, s] = b\n",
    "\n",
    "# Find the average revenue\n",
    "average_revenue = np.mean(results_myopic_revenue)\n",
    "print(f\"Average revenue: {average_revenue}\")\n",
    "\n",
    "# Find the average remaining quantity of each resource\n",
    "average_remaining_capacity = np.mean(results_myopic_remaining_capacity, axis = 1)\n",
    "print(f\"Average remaining capacity: {average_remaining_capacity}\")\n"
   ]
  },
  {
   "cell_type": "markdown",
   "metadata": {},
   "source": [
    "### Part 4: A bid-price control policy"
   ]
  },
  {
   "cell_type": "code",
   "execution_count": 165,
   "metadata": {},
   "outputs": [
    {
     "name": "stdout",
     "output_type": "stream",
     "text": [
      "Average revenue: 925.59\n",
      "Average remaining capacity: [27.2   4.88 20.62]\n"
     ]
    }
   ],
   "source": [
    "# Preconditions for code below:\n",
    "# nSimulations = number of simulations to run\n",
    "# nResources = number of different types of resources (= 3)\n",
    "# B = numpy array of initial capacities of the resources\n",
    "# arrival_sequences_times = array where each entry is arrival time sequence for that\n",
    "# simulation\n",
    "# arrival_sequences_types = array where each entry is sequence of request types for\n",
    "# that simulation\n",
    "nInstances = 9\n",
    "nSimulations = 100\n",
    "nResources = 3\n",
    "\n",
    "B = np.array([512, 1024, 64])\n",
    "price = np.array([7, 12, 24, 22, 44, 88, 30, 90, 120])\n",
    "\n",
    "# arrival rate per day\n",
    "rate = np.array([5.0, 5.0, 1.8, 3.0, 2.6, 1.0, 0.8, 0.4, 0.3])\n",
    "\n",
    "# Time horizon:\n",
    "T = 5\n",
    "\n",
    "# Finally, let us compute the forecasted demand for each instance type:\n",
    "forecast = T * rate\n",
    "\n",
    "# Parametrers\n",
    "CPU = np.array([16, 32, 64, 8, 16, 32, 16, 32, 64])\n",
    "Memory = np.array([8, 16, 32, 32, 64, 128, 16, 32, 64])\n",
    "GPU = np.array([1, 1, 1, 1, 1, 1, 2, 6, 8])\n",
    "\n",
    "# Your LP formulation should be defined here\n",
    "# (or somewhere before the definition of bpc()...)\n",
    "m_bid = Model()\n",
    "\n",
    "# Add the decision variable\n",
    "x = m_bid.addVars(nInstances, lb = 0, ub = forecast)\n",
    "\n",
    "# Create the capacity constraint\n",
    "CPU_constr = m_bid.addConstr( sum(x[i] * CPU[i] for i in range(nInstances)) <= 512 )\n",
    "Memory_constr = m_bid.addConstr( sum(x[i] * Memory[i] for i in range(nInstances)) <= 1024 )\n",
    "GPU_constr = m_bid.addConstr( sum(x[i] * GPU[i] for i in range(nInstances)) <= 64 )\n",
    "\n",
    "# Set the objective.\n",
    "m_bid.setObjective(sum( price[i] * x[i] for i in range(nInstances)), GRB.MAXIMIZE )\n",
    "\n",
    "m_bid.setParam('OutputFlag', False )\n",
    "\n",
    "# As we did in-class, define a function bpc() to re-solve the LO each time:\n",
    "def bpc(b, t):\n",
    "    dual_val = np.zeros(nResources)\n",
    "    for r in range(nResources):\n",
    "        # Set the RHS of the resource constraint to b[r] here\n",
    "        if r == 0:\n",
    "            CPU_constr.rhs = b[r]\n",
    "        elif r == 1:\n",
    "            Memory_constr.rhs = b[r]\n",
    "        elif r == 2:\n",
    "            GPU_constr.rhs = b[r]\n",
    "\n",
    "    for i in range(nInstances):\n",
    "        # Set the RHS of the forecast constraint for each instance\n",
    "        # type to the expected number of requests over the duration\n",
    "        # of the remaining horizon (T - t).\n",
    "        x[i].ub = (T - t)*rate[i]\n",
    "        # ...\n",
    "\n",
    "    # Re-solve the model:\n",
    "    m_bid.update()\n",
    "    m_bid.optimize()\n",
    "\n",
    "    # Obtain the dual values/shadow prices\n",
    "    dual_val[0] = CPU_constr.pi\n",
    "    dual_val[1] = Memory_constr.pi\n",
    "    dual_val[2] = GPU_constr.pi \n",
    "\n",
    "    # Return the dual values:\n",
    "    return dual_val\n",
    "\n",
    "results_revenue = np.zeros(nSimulations)\n",
    "results_remaining_capacity = np.zeros((nResources, nSimulations))\n",
    "\n",
    "for s in range(nSimulations):\n",
    "    b = B.copy() #Initialize the current capacity\n",
    "    single_revenue = 0.0 #Initialize the revenue garnered in this simulation\n",
    "    nArrivals = len(arrival_sequences_times[s])\n",
    "    \n",
    "    for j in range(nArrivals):\n",
    "        # Take the next arrival time and type from the sequence\n",
    "        arrival_time = arrival_sequences_times[s][j]\n",
    "        i = arrival_sequences_types[s][j]\n",
    "\n",
    "        if (CPU[i] <= b[0] and Memory[i] <= b[1] and GPU[i] <= b[2]):\n",
    "            # Re-solve the LO and obtain the dual values\n",
    "            dual_val = bpc(b, arrival_time)\n",
    "            # Compute the total bid price of the request\n",
    "            total_bid_price = sum(dual_val * np.array([CPU[i], Memory[i], GPU[i]]))\n",
    "\n",
    "            # Check if the revenue is at least the sum of the bid prices:\n",
    "            if ( price[i] >= total_bid_price ):\n",
    "                # If there is sufficient capacity, accrue the revenue\n",
    "                single_revenue += price[i]\n",
    "                # and remove the capacity.\n",
    "                b[0] -= CPU[i]\n",
    "                b[1] -= Memory[i]\n",
    "                b[2] -= GPU[i] \n",
    "\n",
    "    # Save the results of this simulation here:\n",
    "    results_revenue[s] = single_revenue\n",
    "    results_remaining_capacity[:, s] = b\n",
    "\n",
    "# Find the average revenue\n",
    "average_revenue = np.mean(results_revenue)\n",
    "print(f\"Average revenue: {average_revenue}\")\n",
    "\n",
    "# Find the average remaining quantity of each resource\n",
    "average_remaining_capacity = np.mean(results_remaining_capacity, axis = 1)\n",
    "print(f\"Average remaining capacity: {average_remaining_capacity}\")"
   ]
  }
 ],
 "metadata": {
  "kernelspec": {
   "display_name": "Python 3 (ipykernel)",
   "language": "python",
   "name": "python3"
  },
  "language_info": {
   "codemirror_mode": {
    "name": "ipython",
    "version": 3
   },
   "file_extension": ".py",
   "mimetype": "text/x-python",
   "name": "python",
   "nbconvert_exporter": "python",
   "pygments_lexer": "ipython3",
   "version": "3.10.13"
  }
 },
 "nbformat": 4,
 "nbformat_minor": 2
}
